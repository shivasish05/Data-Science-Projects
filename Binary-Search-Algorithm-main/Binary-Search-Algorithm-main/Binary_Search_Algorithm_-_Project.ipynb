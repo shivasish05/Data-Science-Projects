{
 "cells": [
  {
   "cell_type": "markdown",
   "id": "becb0c2d",
   "metadata": {},
   "source": [
    "# <font color = \"#FFA62F\">Binary Search Algorithm - Project"
   ]
  },
  {
   "cell_type": "markdown",
   "id": "e51214c9",
   "metadata": {},
   "source": [
    "##### <font color= \"#806517\">Binary Search: Search a sorted array by repeatedly dividing the search interval in half. Begin with an interval covering the whole array. If the value of the search key is less than the item in the middle of the interval, narrow the interval to the lower half. Otherwise, narrow it to the upper half. Repeatedly check until the value is found or the interval is empty."
   ]
  },
  {
   "attachments": {},
   "cell_type": "markdown",
   "id": "4f6994a8",
   "metadata": {},
   "source": [
    "#### I created a list of random numbers between 0 to 100, with every succeeding number having a difference of 2 between them.\n"
   ]
  },
  {
   "cell_type": "code",
   "execution_count": 1,
   "id": "ca866bbd",
   "metadata": {},
   "outputs": [
    {
     "name": "stdout",
     "output_type": "stream",
     "text": [
      "[61, 63, 65]\n"
     ]
    }
   ],
   "source": [
    "import random\n",
    "import random as rn\n",
    "start = rn.randint(0,100)\n",
    "# print(start)\n",
    "end = rn.randint(start+2,100)\n",
    "# print(end)\n",
    "li = [x for x in range(start,end,2)]\n",
    "\n",
    "print(li)\n"
   ]
  },
  {
   "attachments": {},
   "cell_type": "markdown",
   "id": "4333a159",
   "metadata": {},
   "source": [
    "#### When the user inputs a random number, the program will check if that number is included in the list. It will do so by creating two halves of the list. \n"
   ]
  },
  {
   "cell_type": "code",
   "execution_count": 2,
   "id": "6f5e2c96",
   "metadata": {},
   "outputs": [
    {
     "name": "stdout",
     "output_type": "stream",
     "text": [
      "Enter any number from 1 to 100 from list to find the index of the same : 63\n"
     ]
    }
   ],
   "source": [
    "user_input = int(input(\"Enter any number from 1 to 100 from list to find the index of the same : \"))"
   ]
  },
  {
   "attachments": {},
   "cell_type": "markdown",
   "id": "0012906c",
   "metadata": {},
   "source": [
    "#### If the program finds the number in the first half of the list, it will eliminate the other half and vice versa. The search will continue until the program finds the number input of the user or until the subarray size becomes 0 "
   ]
  },
  {
   "attachments": {},
   "cell_type": "markdown",
   "id": "82b6957c",
   "metadata": {},
   "source": [
    "#### <font color = \"#A0522D\">Working Principle Of Binary Search Is As Follows:\n",
    "##### >>Take a number x between 0 to 100 as an input from user.\n",
    "##### >>Compare x with the middle element.\n",
    "##### >>If x matches with the middle element, we return the mid index.\n",
    "##### >>Else if x is greater than the mid element, then x can only lie in the right (greater) half subarray after the mid element. Then we apply the       algorithm again for the right half.\n",
    "##### >>Else if x is smaller, the target x must lie in the left (lower) half. So we apply the algorithm for the left half.\n"
   ]
  },
  {
   "cell_type": "code",
   "execution_count": 3,
   "id": "8fd70286",
   "metadata": {},
   "outputs": [],
   "source": [
    "def binary_search(li, user_input):\n",
    "    lower = 0\n",
    "    upper = len(li)-1\n",
    "\n",
    "    while lower <= upper:\n",
    "        mid = (lower + upper) // 2\n",
    "        if li[mid] < user_input:\n",
    "            lower = mid + 1\n",
    "\n",
    "        # If User_input is smaller , ignore right half\n",
    "        elif li[mid] > user_input:\n",
    "            upper = mid - 1\n",
    "\n",
    "        else:\n",
    "            return mid\n",
    "    return -1\n"
   ]
  },
  {
   "cell_type": "markdown",
   "id": "fa4bd15c",
   "metadata": {},
   "source": [
    "#### And Finally User Gets The Index Of The Element That He/She Inputted"
   ]
  },
  {
   "cell_type": "code",
   "execution_count": 4,
   "id": "1ff496f8",
   "metadata": {},
   "outputs": [
    {
     "name": "stdout",
     "output_type": "stream",
     "text": [
      "63 is pressent at index 1\n"
     ]
    }
   ],
   "source": [
    "answer = binary_search(li, user_input)\n",
    "\n",
    "if answer != -1:\n",
    "    print(f\"{user_input} is pressent at index {answer}\")\n",
    "else:\n",
    "    print(\"Not in list\")"
   ]
  }
 ],
 "metadata": {
  "kernelspec": {
   "display_name": "Python 3 (ipykernel)",
   "language": "python",
   "name": "python3"
  },
  "language_info": {
   "codemirror_mode": {
    "name": "ipython",
    "version": 3
   },
   "file_extension": ".py",
   "mimetype": "text/x-python",
   "name": "python",
   "nbconvert_exporter": "python",
   "pygments_lexer": "ipython3",
   "version": "3.9.7"
  }
 },
 "nbformat": 4,
 "nbformat_minor": 5
}
