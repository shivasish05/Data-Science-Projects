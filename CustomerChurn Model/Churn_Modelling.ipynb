{
  "cells": [
    {
      "cell_type": "code",
      "execution_count": 1,
      "metadata": {
        "colab": {
          "base_uri": "https://localhost:8080/"
        },
        "id": "HiheNDrGAb0a",
        "outputId": "e19704bd-c6a3-41c4-adbc-7a891b8e4a94"
      },
      "outputs": [
        {
          "name": "stdout",
          "output_type": "stream",
          "text": [
            "Requirement already satisfied: tensorflow in c:\\users\\shiv\\desktop\\customerchurn model\\venv\\lib\\site-packages (2.13.0)\n",
            "Requirement already satisfied: tensorflow-intel==2.13.0 in c:\\users\\shiv\\desktop\\customerchurn model\\venv\\lib\\site-packages (from tensorflow) (2.13.0)\n",
            "Requirement already satisfied: absl-py>=1.0.0 in c:\\users\\shiv\\desktop\\customerchurn model\\venv\\lib\\site-packages (from tensorflow-intel==2.13.0->tensorflow) (2.1.0)\n",
            "Requirement already satisfied: astunparse>=1.6.0 in c:\\users\\shiv\\desktop\\customerchurn model\\venv\\lib\\site-packages (from tensorflow-intel==2.13.0->tensorflow) (1.6.3)\n",
            "Requirement already satisfied: flatbuffers>=23.1.21 in c:\\users\\shiv\\desktop\\customerchurn model\\venv\\lib\\site-packages (from tensorflow-intel==2.13.0->tensorflow) (23.5.26)\n",
            "Requirement already satisfied: gast<=0.4.0,>=0.2.1 in c:\\users\\shiv\\desktop\\customerchurn model\\venv\\lib\\site-packages (from tensorflow-intel==2.13.0->tensorflow) (0.4.0)\n",
            "Requirement already satisfied: google-pasta>=0.1.1 in c:\\users\\shiv\\desktop\\customerchurn model\\venv\\lib\\site-packages (from tensorflow-intel==2.13.0->tensorflow) (0.2.0)\n",
            "Requirement already satisfied: h5py>=2.9.0 in c:\\users\\shiv\\desktop\\customerchurn model\\venv\\lib\\site-packages (from tensorflow-intel==2.13.0->tensorflow) (3.10.0)\n",
            "Requirement already satisfied: libclang>=13.0.0 in c:\\users\\shiv\\desktop\\customerchurn model\\venv\\lib\\site-packages (from tensorflow-intel==2.13.0->tensorflow) (16.0.6)\n",
            "Requirement already satisfied: numpy<=1.24.3,>=1.22 in c:\\users\\shiv\\desktop\\customerchurn model\\venv\\lib\\site-packages (from tensorflow-intel==2.13.0->tensorflow) (1.24.3)\n",
            "Requirement already satisfied: opt-einsum>=2.3.2 in c:\\users\\shiv\\desktop\\customerchurn model\\venv\\lib\\site-packages (from tensorflow-intel==2.13.0->tensorflow) (3.3.0)\n",
            "Requirement already satisfied: packaging in c:\\users\\shiv\\desktop\\customerchurn model\\venv\\lib\\site-packages (from tensorflow-intel==2.13.0->tensorflow) (23.2)\n",
            "Requirement already satisfied: protobuf!=4.21.0,!=4.21.1,!=4.21.2,!=4.21.3,!=4.21.4,!=4.21.5,<5.0.0dev,>=3.20.3 in c:\\users\\shiv\\desktop\\customerchurn model\\venv\\lib\\site-packages (from tensorflow-intel==2.13.0->tensorflow) (4.25.2)\n",
            "Requirement already satisfied: setuptools in c:\\users\\shiv\\desktop\\customerchurn model\\venv\\lib\\site-packages (from tensorflow-intel==2.13.0->tensorflow) (49.2.1)\n",
            "Requirement already satisfied: six>=1.12.0 in c:\\users\\shiv\\desktop\\customerchurn model\\venv\\lib\\site-packages (from tensorflow-intel==2.13.0->tensorflow) (1.16.0)\n",
            "Requirement already satisfied: termcolor>=1.1.0 in c:\\users\\shiv\\desktop\\customerchurn model\\venv\\lib\\site-packages (from tensorflow-intel==2.13.0->tensorflow) (2.4.0)\n",
            "Requirement already satisfied: typing-extensions<4.6.0,>=3.6.6 in c:\\users\\shiv\\desktop\\customerchurn model\\venv\\lib\\site-packages (from tensorflow-intel==2.13.0->tensorflow) (4.5.0)\n",
            "Requirement already satisfied: wrapt>=1.11.0 in c:\\users\\shiv\\desktop\\customerchurn model\\venv\\lib\\site-packages (from tensorflow-intel==2.13.0->tensorflow) (1.16.0)\n",
            "Requirement already satisfied: grpcio<2.0,>=1.24.3 in c:\\users\\shiv\\desktop\\customerchurn model\\venv\\lib\\site-packages (from tensorflow-intel==2.13.0->tensorflow) (1.60.0)\n",
            "Requirement already satisfied: tensorboard<2.14,>=2.13 in c:\\users\\shiv\\desktop\\customerchurn model\\venv\\lib\\site-packages (from tensorflow-intel==2.13.0->tensorflow) (2.13.0)\n",
            "Requirement already satisfied: tensorflow-estimator<2.14,>=2.13.0 in c:\\users\\shiv\\desktop\\customerchurn model\\venv\\lib\\site-packages (from tensorflow-intel==2.13.0->tensorflow) (2.13.0)\n",
            "Requirement already satisfied: keras<2.14,>=2.13.1 in c:\\users\\shiv\\desktop\\customerchurn model\\venv\\lib\\site-packages (from tensorflow-intel==2.13.0->tensorflow) (2.13.1)\n",
            "Requirement already satisfied: tensorflow-io-gcs-filesystem>=0.23.1 in c:\\users\\shiv\\desktop\\customerchurn model\\venv\\lib\\site-packages (from tensorflow-intel==2.13.0->tensorflow) (0.31.0)\n",
            "Requirement already satisfied: wheel<1.0,>=0.23.0 in c:\\users\\shiv\\desktop\\customerchurn model\\venv\\lib\\site-packages (from astunparse>=1.6.0->tensorflow-intel==2.13.0->tensorflow) (0.42.0)\n",
            "Requirement already satisfied: google-auth<3,>=1.6.3 in c:\\users\\shiv\\desktop\\customerchurn model\\venv\\lib\\site-packages (from tensorboard<2.14,>=2.13->tensorflow-intel==2.13.0->tensorflow) (2.26.2)\n",
            "Requirement already satisfied: google-auth-oauthlib<1.1,>=0.5 in c:\\users\\shiv\\desktop\\customerchurn model\\venv\\lib\\site-packages (from tensorboard<2.14,>=2.13->tensorflow-intel==2.13.0->tensorflow) (1.0.0)\n",
            "Requirement already satisfied: markdown>=2.6.8 in c:\\users\\shiv\\desktop\\customerchurn model\\venv\\lib\\site-packages (from tensorboard<2.14,>=2.13->tensorflow-intel==2.13.0->tensorflow) (3.5.2)\n",
            "Requirement already satisfied: requests<3,>=2.21.0 in c:\\users\\shiv\\desktop\\customerchurn model\\venv\\lib\\site-packages (from tensorboard<2.14,>=2.13->tensorflow-intel==2.13.0->tensorflow) (2.31.0)\n",
            "Requirement already satisfied: tensorboard-data-server<0.8.0,>=0.7.0 in c:\\users\\shiv\\desktop\\customerchurn model\\venv\\lib\\site-packages (from tensorboard<2.14,>=2.13->tensorflow-intel==2.13.0->tensorflow) (0.7.2)\n",
            "Requirement already satisfied: werkzeug>=1.0.1 in c:\\users\\shiv\\desktop\\customerchurn model\\venv\\lib\\site-packages (from tensorboard<2.14,>=2.13->tensorflow-intel==2.13.0->tensorflow) (3.0.1)\n",
            "Requirement already satisfied: cachetools<6.0,>=2.0.0 in c:\\users\\shiv\\desktop\\customerchurn model\\venv\\lib\\site-packages (from google-auth<3,>=1.6.3->tensorboard<2.14,>=2.13->tensorflow-intel==2.13.0->tensorflow) (5.3.2)\n",
            "Requirement already satisfied: pyasn1-modules>=0.2.1 in c:\\users\\shiv\\desktop\\customerchurn model\\venv\\lib\\site-packages (from google-auth<3,>=1.6.3->tensorboard<2.14,>=2.13->tensorflow-intel==2.13.0->tensorflow) (0.3.0)\n",
            "Requirement already satisfied: rsa<5,>=3.1.4 in c:\\users\\shiv\\desktop\\customerchurn model\\venv\\lib\\site-packages (from google-auth<3,>=1.6.3->tensorboard<2.14,>=2.13->tensorflow-intel==2.13.0->tensorflow) (4.9)\n",
            "Requirement already satisfied: requests-oauthlib>=0.7.0 in c:\\users\\shiv\\desktop\\customerchurn model\\venv\\lib\\site-packages (from google-auth-oauthlib<1.1,>=0.5->tensorboard<2.14,>=2.13->tensorflow-intel==2.13.0->tensorflow) (1.3.1)\n",
            "Requirement already satisfied: importlib-metadata>=4.4 in c:\\users\\shiv\\desktop\\customerchurn model\\venv\\lib\\site-packages (from markdown>=2.6.8->tensorboard<2.14,>=2.13->tensorflow-intel==2.13.0->tensorflow) (7.0.1)\n",
            "Requirement already satisfied: charset-normalizer<4,>=2 in c:\\users\\shiv\\desktop\\customerchurn model\\venv\\lib\\site-packages (from requests<3,>=2.21.0->tensorboard<2.14,>=2.13->tensorflow-intel==2.13.0->tensorflow) (3.3.2)\n",
            "Requirement already satisfied: idna<4,>=2.5 in c:\\users\\shiv\\desktop\\customerchurn model\\venv\\lib\\site-packages (from requests<3,>=2.21.0->tensorboard<2.14,>=2.13->tensorflow-intel==2.13.0->tensorflow) (3.6)\n",
            "Requirement already satisfied: urllib3<3,>=1.21.1 in c:\\users\\shiv\\desktop\\customerchurn model\\venv\\lib\\site-packages (from requests<3,>=2.21.0->tensorboard<2.14,>=2.13->tensorflow-intel==2.13.0->tensorflow) (2.1.0)\n",
            "Requirement already satisfied: certifi>=2017.4.17 in c:\\users\\shiv\\desktop\\customerchurn model\\venv\\lib\\site-packages (from requests<3,>=2.21.0->tensorboard<2.14,>=2.13->tensorflow-intel==2.13.0->tensorflow) (2023.11.17)\n",
            "Requirement already satisfied: MarkupSafe>=2.1.1 in c:\\users\\shiv\\desktop\\customerchurn model\\venv\\lib\\site-packages (from werkzeug>=1.0.1->tensorboard<2.14,>=2.13->tensorflow-intel==2.13.0->tensorflow) (2.1.4)\n",
            "Requirement already satisfied: zipp>=0.5 in c:\\users\\shiv\\desktop\\customerchurn model\\venv\\lib\\site-packages (from importlib-metadata>=4.4->markdown>=2.6.8->tensorboard<2.14,>=2.13->tensorflow-intel==2.13.0->tensorflow) (3.17.0)\n",
            "Requirement already satisfied: pyasn1<0.6.0,>=0.4.6 in c:\\users\\shiv\\desktop\\customerchurn model\\venv\\lib\\site-packages (from pyasn1-modules>=0.2.1->google-auth<3,>=1.6.3->tensorboard<2.14,>=2.13->tensorflow-intel==2.13.0->tensorflow) (0.5.1)\n",
            "Requirement already satisfied: oauthlib>=3.0.0 in c:\\users\\shiv\\desktop\\customerchurn model\\venv\\lib\\site-packages (from requests-oauthlib>=0.7.0->google-auth-oauthlib<1.1,>=0.5->tensorboard<2.14,>=2.13->tensorflow-intel==2.13.0->tensorflow) (3.2.2)\n"
          ]
        }
      ],
      "source": [
        "!pip install tensorflow\n"
      ]
    },
    {
      "cell_type": "markdown",
      "metadata": {
        "id": "7GiSLaJ8CQ1P"
      },
      "source": [
        "Using tenserflow version 2.15.0 as it has keran installed in it"
      ]
    },
    {
      "cell_type": "code",
      "execution_count": 6,
      "metadata": {
        "colab": {
          "base_uri": "https://localhost:8080/"
        },
        "id": "d1M8C-FwBVju",
        "outputId": "651c3de8-a4fb-438e-c0af-de7cfead5b38"
      },
      "outputs": [
        {
          "name": "stdout",
          "output_type": "stream",
          "text": [
            "2.15.0\n"
          ]
        }
      ],
      "source": [
        "import tensorflow as tf\n",
        "print(tf.__version__)"
      ]
    },
    {
      "cell_type": "code",
      "execution_count": 7,
      "metadata": {
        "id": "rNWikZy6CDbK"
      },
      "outputs": [],
      "source": [
        "#import usefull liberaries\n",
        "import numpy as np\n",
        "import matplotlib.pyplot as plt\n",
        "import pandas as pd"
      ]
    },
    {
      "cell_type": "markdown",
      "metadata": {
        "id": "crD5hosWDA32"
      },
      "source": [
        "## Importing Dataset Churn Modeling"
      ]
    },
    {
      "cell_type": "code",
      "execution_count": 8,
      "metadata": {
        "id": "3HhbKY1cCZMQ"
      },
      "outputs": [],
      "source": [
        "dataset = pd.read_csv('Churn_Modelling.csv')"
      ]
    },
    {
      "cell_type": "code",
      "execution_count": 9,
      "metadata": {
        "colab": {
          "base_uri": "https://localhost:8080/",
          "height": 226
        },
        "id": "AvQc63tRC4DA",
        "outputId": "cbbbcecc-0d7d-43bb-a47d-8944956f94e0"
      },
      "outputs": [
        {
          "data": {
            "text/html": [
              "\n",
              "  <div id=\"df-b06f7874-f8b1-4d03-8f56-cc3c84c008e3\" class=\"colab-df-container\">\n",
              "    <div>\n",
              "<style scoped>\n",
              "    .dataframe tbody tr th:only-of-type {\n",
              "        vertical-align: middle;\n",
              "    }\n",
              "\n",
              "    .dataframe tbody tr th {\n",
              "        vertical-align: top;\n",
              "    }\n",
              "\n",
              "    .dataframe thead th {\n",
              "        text-align: right;\n",
              "    }\n",
              "</style>\n",
              "<table border=\"1\" class=\"dataframe\">\n",
              "  <thead>\n",
              "    <tr style=\"text-align: right;\">\n",
              "      <th></th>\n",
              "      <th>RowNumber</th>\n",
              "      <th>CustomerId</th>\n",
              "      <th>Surname</th>\n",
              "      <th>CreditScore</th>\n",
              "      <th>Geography</th>\n",
              "      <th>Gender</th>\n",
              "      <th>Age</th>\n",
              "      <th>Tenure</th>\n",
              "      <th>Balance</th>\n",
              "      <th>NumOfProducts</th>\n",
              "      <th>HasCrCard</th>\n",
              "      <th>IsActiveMember</th>\n",
              "      <th>EstimatedSalary</th>\n",
              "      <th>Exited</th>\n",
              "    </tr>\n",
              "  </thead>\n",
              "  <tbody>\n",
              "    <tr>\n",
              "      <th>0</th>\n",
              "      <td>1</td>\n",
              "      <td>15634602</td>\n",
              "      <td>Hargrave</td>\n",
              "      <td>619</td>\n",
              "      <td>France</td>\n",
              "      <td>Female</td>\n",
              "      <td>42</td>\n",
              "      <td>2</td>\n",
              "      <td>0.00</td>\n",
              "      <td>1</td>\n",
              "      <td>1</td>\n",
              "      <td>1</td>\n",
              "      <td>101348.88</td>\n",
              "      <td>1</td>\n",
              "    </tr>\n",
              "    <tr>\n",
              "      <th>1</th>\n",
              "      <td>2</td>\n",
              "      <td>15647311</td>\n",
              "      <td>Hill</td>\n",
              "      <td>608</td>\n",
              "      <td>Spain</td>\n",
              "      <td>Female</td>\n",
              "      <td>41</td>\n",
              "      <td>1</td>\n",
              "      <td>83807.86</td>\n",
              "      <td>1</td>\n",
              "      <td>0</td>\n",
              "      <td>1</td>\n",
              "      <td>112542.58</td>\n",
              "      <td>0</td>\n",
              "    </tr>\n",
              "    <tr>\n",
              "      <th>2</th>\n",
              "      <td>3</td>\n",
              "      <td>15619304</td>\n",
              "      <td>Onio</td>\n",
              "      <td>502</td>\n",
              "      <td>France</td>\n",
              "      <td>Female</td>\n",
              "      <td>42</td>\n",
              "      <td>8</td>\n",
              "      <td>159660.80</td>\n",
              "      <td>3</td>\n",
              "      <td>1</td>\n",
              "      <td>0</td>\n",
              "      <td>113931.57</td>\n",
              "      <td>1</td>\n",
              "    </tr>\n",
              "    <tr>\n",
              "      <th>3</th>\n",
              "      <td>4</td>\n",
              "      <td>15701354</td>\n",
              "      <td>Boni</td>\n",
              "      <td>699</td>\n",
              "      <td>France</td>\n",
              "      <td>Female</td>\n",
              "      <td>39</td>\n",
              "      <td>1</td>\n",
              "      <td>0.00</td>\n",
              "      <td>2</td>\n",
              "      <td>0</td>\n",
              "      <td>0</td>\n",
              "      <td>93826.63</td>\n",
              "      <td>0</td>\n",
              "    </tr>\n",
              "    <tr>\n",
              "      <th>4</th>\n",
              "      <td>5</td>\n",
              "      <td>15737888</td>\n",
              "      <td>Mitchell</td>\n",
              "      <td>850</td>\n",
              "      <td>Spain</td>\n",
              "      <td>Female</td>\n",
              "      <td>43</td>\n",
              "      <td>2</td>\n",
              "      <td>125510.82</td>\n",
              "      <td>1</td>\n",
              "      <td>1</td>\n",
              "      <td>1</td>\n",
              "      <td>79084.10</td>\n",
              "      <td>0</td>\n",
              "    </tr>\n",
              "  </tbody>\n",
              "</table>\n",
              "</div>\n",
              "    <div class=\"colab-df-buttons\">\n",
              "\n",
              "  <div class=\"colab-df-container\">\n",
              "    <button class=\"colab-df-convert\" onclick=\"convertToInteractive('df-b06f7874-f8b1-4d03-8f56-cc3c84c008e3')\"\n",
              "            title=\"Convert this dataframe to an interactive table.\"\n",
              "            style=\"display:none;\">\n",
              "\n",
              "  <svg xmlns=\"http://www.w3.org/2000/svg\" height=\"24px\" viewBox=\"0 -960 960 960\">\n",
              "    <path d=\"M120-120v-720h720v720H120Zm60-500h600v-160H180v160Zm220 220h160v-160H400v160Zm0 220h160v-160H400v160ZM180-400h160v-160H180v160Zm440 0h160v-160H620v160ZM180-180h160v-160H180v160Zm440 0h160v-160H620v160Z\"/>\n",
              "  </svg>\n",
              "    </button>\n",
              "\n",
              "  <style>\n",
              "    .colab-df-container {\n",
              "      display:flex;\n",
              "      gap: 12px;\n",
              "    }\n",
              "\n",
              "    .colab-df-convert {\n",
              "      background-color: #E8F0FE;\n",
              "      border: none;\n",
              "      border-radius: 50%;\n",
              "      cursor: pointer;\n",
              "      display: none;\n",
              "      fill: #1967D2;\n",
              "      height: 32px;\n",
              "      padding: 0 0 0 0;\n",
              "      width: 32px;\n",
              "    }\n",
              "\n",
              "    .colab-df-convert:hover {\n",
              "      background-color: #E2EBFA;\n",
              "      box-shadow: 0px 1px 2px rgba(60, 64, 67, 0.3), 0px 1px 3px 1px rgba(60, 64, 67, 0.15);\n",
              "      fill: #174EA6;\n",
              "    }\n",
              "\n",
              "    .colab-df-buttons div {\n",
              "      margin-bottom: 4px;\n",
              "    }\n",
              "\n",
              "    [theme=dark] .colab-df-convert {\n",
              "      background-color: #3B4455;\n",
              "      fill: #D2E3FC;\n",
              "    }\n",
              "\n",
              "    [theme=dark] .colab-df-convert:hover {\n",
              "      background-color: #434B5C;\n",
              "      box-shadow: 0px 1px 3px 1px rgba(0, 0, 0, 0.15);\n",
              "      filter: drop-shadow(0px 1px 2px rgba(0, 0, 0, 0.3));\n",
              "      fill: #FFFFFF;\n",
              "    }\n",
              "  </style>\n",
              "\n",
              "    <script>\n",
              "      const buttonEl =\n",
              "        document.querySelector('#df-b06f7874-f8b1-4d03-8f56-cc3c84c008e3 button.colab-df-convert');\n",
              "      buttonEl.style.display =\n",
              "        google.colab.kernel.accessAllowed ? 'block' : 'none';\n",
              "\n",
              "      async function convertToInteractive(key) {\n",
              "        const element = document.querySelector('#df-b06f7874-f8b1-4d03-8f56-cc3c84c008e3');\n",
              "        const dataTable =\n",
              "          await google.colab.kernel.invokeFunction('convertToInteractive',\n",
              "                                                    [key], {});\n",
              "        if (!dataTable) return;\n",
              "\n",
              "        const docLinkHtml = 'Like what you see? Visit the ' +\n",
              "          '<a target=\"_blank\" href=https://colab.research.google.com/notebooks/data_table.ipynb>data table notebook</a>'\n",
              "          + ' to learn more about interactive tables.';\n",
              "        element.innerHTML = '';\n",
              "        dataTable['output_type'] = 'display_data';\n",
              "        await google.colab.output.renderOutput(dataTable, element);\n",
              "        const docLink = document.createElement('div');\n",
              "        docLink.innerHTML = docLinkHtml;\n",
              "        element.appendChild(docLink);\n",
              "      }\n",
              "    </script>\n",
              "  </div>\n",
              "\n",
              "\n",
              "<div id=\"df-266670c5-6c15-4ac0-9a54-5c26be2a472c\">\n",
              "  <button class=\"colab-df-quickchart\" onclick=\"quickchart('df-266670c5-6c15-4ac0-9a54-5c26be2a472c')\"\n",
              "            title=\"Suggest charts\"\n",
              "            style=\"display:none;\">\n",
              "\n",
              "<svg xmlns=\"http://www.w3.org/2000/svg\" height=\"24px\"viewBox=\"0 0 24 24\"\n",
              "     width=\"24px\">\n",
              "    <g>\n",
              "        <path d=\"M19 3H5c-1.1 0-2 .9-2 2v14c0 1.1.9 2 2 2h14c1.1 0 2-.9 2-2V5c0-1.1-.9-2-2-2zM9 17H7v-7h2v7zm4 0h-2V7h2v10zm4 0h-2v-4h2v4z\"/>\n",
              "    </g>\n",
              "</svg>\n",
              "  </button>\n",
              "\n",
              "<style>\n",
              "  .colab-df-quickchart {\n",
              "      --bg-color: #E8F0FE;\n",
              "      --fill-color: #1967D2;\n",
              "      --hover-bg-color: #E2EBFA;\n",
              "      --hover-fill-color: #174EA6;\n",
              "      --disabled-fill-color: #AAA;\n",
              "      --disabled-bg-color: #DDD;\n",
              "  }\n",
              "\n",
              "  [theme=dark] .colab-df-quickchart {\n",
              "      --bg-color: #3B4455;\n",
              "      --fill-color: #D2E3FC;\n",
              "      --hover-bg-color: #434B5C;\n",
              "      --hover-fill-color: #FFFFFF;\n",
              "      --disabled-bg-color: #3B4455;\n",
              "      --disabled-fill-color: #666;\n",
              "  }\n",
              "\n",
              "  .colab-df-quickchart {\n",
              "    background-color: var(--bg-color);\n",
              "    border: none;\n",
              "    border-radius: 50%;\n",
              "    cursor: pointer;\n",
              "    display: none;\n",
              "    fill: var(--fill-color);\n",
              "    height: 32px;\n",
              "    padding: 0;\n",
              "    width: 32px;\n",
              "  }\n",
              "\n",
              "  .colab-df-quickchart:hover {\n",
              "    background-color: var(--hover-bg-color);\n",
              "    box-shadow: 0 1px 2px rgba(60, 64, 67, 0.3), 0 1px 3px 1px rgba(60, 64, 67, 0.15);\n",
              "    fill: var(--button-hover-fill-color);\n",
              "  }\n",
              "\n",
              "  .colab-df-quickchart-complete:disabled,\n",
              "  .colab-df-quickchart-complete:disabled:hover {\n",
              "    background-color: var(--disabled-bg-color);\n",
              "    fill: var(--disabled-fill-color);\n",
              "    box-shadow: none;\n",
              "  }\n",
              "\n",
              "  .colab-df-spinner {\n",
              "    border: 2px solid var(--fill-color);\n",
              "    border-color: transparent;\n",
              "    border-bottom-color: var(--fill-color);\n",
              "    animation:\n",
              "      spin 1s steps(1) infinite;\n",
              "  }\n",
              "\n",
              "  @keyframes spin {\n",
              "    0% {\n",
              "      border-color: transparent;\n",
              "      border-bottom-color: var(--fill-color);\n",
              "      border-left-color: var(--fill-color);\n",
              "    }\n",
              "    20% {\n",
              "      border-color: transparent;\n",
              "      border-left-color: var(--fill-color);\n",
              "      border-top-color: var(--fill-color);\n",
              "    }\n",
              "    30% {\n",
              "      border-color: transparent;\n",
              "      border-left-color: var(--fill-color);\n",
              "      border-top-color: var(--fill-color);\n",
              "      border-right-color: var(--fill-color);\n",
              "    }\n",
              "    40% {\n",
              "      border-color: transparent;\n",
              "      border-right-color: var(--fill-color);\n",
              "      border-top-color: var(--fill-color);\n",
              "    }\n",
              "    60% {\n",
              "      border-color: transparent;\n",
              "      border-right-color: var(--fill-color);\n",
              "    }\n",
              "    80% {\n",
              "      border-color: transparent;\n",
              "      border-right-color: var(--fill-color);\n",
              "      border-bottom-color: var(--fill-color);\n",
              "    }\n",
              "    90% {\n",
              "      border-color: transparent;\n",
              "      border-bottom-color: var(--fill-color);\n",
              "    }\n",
              "  }\n",
              "</style>\n",
              "\n",
              "  <script>\n",
              "    async function quickchart(key) {\n",
              "      const quickchartButtonEl =\n",
              "        document.querySelector('#' + key + ' button');\n",
              "      quickchartButtonEl.disabled = true;  // To prevent multiple clicks.\n",
              "      quickchartButtonEl.classList.add('colab-df-spinner');\n",
              "      try {\n",
              "        const charts = await google.colab.kernel.invokeFunction(\n",
              "            'suggestCharts', [key], {});\n",
              "      } catch (error) {\n",
              "        console.error('Error during call to suggestCharts:', error);\n",
              "      }\n",
              "      quickchartButtonEl.classList.remove('colab-df-spinner');\n",
              "      quickchartButtonEl.classList.add('colab-df-quickchart-complete');\n",
              "    }\n",
              "    (() => {\n",
              "      let quickchartButtonEl =\n",
              "        document.querySelector('#df-266670c5-6c15-4ac0-9a54-5c26be2a472c button');\n",
              "      quickchartButtonEl.style.display =\n",
              "        google.colab.kernel.accessAllowed ? 'block' : 'none';\n",
              "    })();\n",
              "  </script>\n",
              "</div>\n",
              "\n",
              "    </div>\n",
              "  </div>\n"
            ],
            "text/plain": [
              "   RowNumber  CustomerId   Surname  CreditScore Geography  Gender  Age  \\\n",
              "0          1    15634602  Hargrave          619    France  Female   42   \n",
              "1          2    15647311      Hill          608     Spain  Female   41   \n",
              "2          3    15619304      Onio          502    France  Female   42   \n",
              "3          4    15701354      Boni          699    France  Female   39   \n",
              "4          5    15737888  Mitchell          850     Spain  Female   43   \n",
              "\n",
              "   Tenure    Balance  NumOfProducts  HasCrCard  IsActiveMember  \\\n",
              "0       2       0.00              1          1               1   \n",
              "1       1   83807.86              1          0               1   \n",
              "2       8  159660.80              3          1               0   \n",
              "3       1       0.00              2          0               0   \n",
              "4       2  125510.82              1          1               1   \n",
              "\n",
              "   EstimatedSalary  Exited  \n",
              "0        101348.88       1  \n",
              "1        112542.58       0  \n",
              "2        113931.57       1  \n",
              "3         93826.63       0  \n",
              "4         79084.10       0  "
            ]
          },
          "execution_count": 9,
          "metadata": {},
          "output_type": "execute_result"
        }
      ],
      "source": [
        "dataset.head()"
      ]
    },
    {
      "cell_type": "markdown",
      "metadata": {
        "id": "h2XFYAY8DNT-"
      },
      "source": [
        "## Problem statement:\n",
        "\n",
        "- To predict weather the persion will exite the bank or not\n",
        "- Exited - dependent feature"
      ]
    },
    {
      "cell_type": "markdown",
      "metadata": {
        "id": "MXOmSnm5DhmP"
      },
      "source": [
        "# 1. Divide dataset into independent and dependent features\n",
        "\n",
        "- X = Independent features\n",
        "- Y = Dependent feature\n"
      ]
    },
    {
      "cell_type": "code",
      "execution_count": 10,
      "metadata": {
        "id": "FCK_Wb0jC6G2"
      },
      "outputs": [],
      "source": [
        "# RowNumber\tCustomerId\tSurname in data is not signoficant to me. (index location iloc)\n",
        "X = dataset.iloc[:,3:13] # All rows excluding index 0-2"
      ]
    },
    {
      "cell_type": "code",
      "execution_count": 11,
      "metadata": {
        "id": "2BTmzxz6DIyd"
      },
      "outputs": [],
      "source": [
        "Y = dataset.iloc[:,13] # all rows (:) and only 13"
      ]
    },
    {
      "cell_type": "code",
      "execution_count": 12,
      "metadata": {
        "colab": {
          "base_uri": "https://localhost:8080/",
          "height": 206
        },
        "id": "tflZJQSIFMjz",
        "outputId": "8036db8d-721b-4139-fd95-7af0b561d506"
      },
      "outputs": [
        {
          "data": {
            "text/html": [
              "\n",
              "  <div id=\"df-e239c38c-a158-4afd-bdb1-87e3ba0173e1\" class=\"colab-df-container\">\n",
              "    <div>\n",
              "<style scoped>\n",
              "    .dataframe tbody tr th:only-of-type {\n",
              "        vertical-align: middle;\n",
              "    }\n",
              "\n",
              "    .dataframe tbody tr th {\n",
              "        vertical-align: top;\n",
              "    }\n",
              "\n",
              "    .dataframe thead th {\n",
              "        text-align: right;\n",
              "    }\n",
              "</style>\n",
              "<table border=\"1\" class=\"dataframe\">\n",
              "  <thead>\n",
              "    <tr style=\"text-align: right;\">\n",
              "      <th></th>\n",
              "      <th>CreditScore</th>\n",
              "      <th>Geography</th>\n",
              "      <th>Gender</th>\n",
              "      <th>Age</th>\n",
              "      <th>Tenure</th>\n",
              "      <th>Balance</th>\n",
              "      <th>NumOfProducts</th>\n",
              "      <th>HasCrCard</th>\n",
              "      <th>IsActiveMember</th>\n",
              "      <th>EstimatedSalary</th>\n",
              "    </tr>\n",
              "  </thead>\n",
              "  <tbody>\n",
              "    <tr>\n",
              "      <th>0</th>\n",
              "      <td>619</td>\n",
              "      <td>France</td>\n",
              "      <td>Female</td>\n",
              "      <td>42</td>\n",
              "      <td>2</td>\n",
              "      <td>0.00</td>\n",
              "      <td>1</td>\n",
              "      <td>1</td>\n",
              "      <td>1</td>\n",
              "      <td>101348.88</td>\n",
              "    </tr>\n",
              "    <tr>\n",
              "      <th>1</th>\n",
              "      <td>608</td>\n",
              "      <td>Spain</td>\n",
              "      <td>Female</td>\n",
              "      <td>41</td>\n",
              "      <td>1</td>\n",
              "      <td>83807.86</td>\n",
              "      <td>1</td>\n",
              "      <td>0</td>\n",
              "      <td>1</td>\n",
              "      <td>112542.58</td>\n",
              "    </tr>\n",
              "    <tr>\n",
              "      <th>2</th>\n",
              "      <td>502</td>\n",
              "      <td>France</td>\n",
              "      <td>Female</td>\n",
              "      <td>42</td>\n",
              "      <td>8</td>\n",
              "      <td>159660.80</td>\n",
              "      <td>3</td>\n",
              "      <td>1</td>\n",
              "      <td>0</td>\n",
              "      <td>113931.57</td>\n",
              "    </tr>\n",
              "    <tr>\n",
              "      <th>3</th>\n",
              "      <td>699</td>\n",
              "      <td>France</td>\n",
              "      <td>Female</td>\n",
              "      <td>39</td>\n",
              "      <td>1</td>\n",
              "      <td>0.00</td>\n",
              "      <td>2</td>\n",
              "      <td>0</td>\n",
              "      <td>0</td>\n",
              "      <td>93826.63</td>\n",
              "    </tr>\n",
              "    <tr>\n",
              "      <th>4</th>\n",
              "      <td>850</td>\n",
              "      <td>Spain</td>\n",
              "      <td>Female</td>\n",
              "      <td>43</td>\n",
              "      <td>2</td>\n",
              "      <td>125510.82</td>\n",
              "      <td>1</td>\n",
              "      <td>1</td>\n",
              "      <td>1</td>\n",
              "      <td>79084.10</td>\n",
              "    </tr>\n",
              "  </tbody>\n",
              "</table>\n",
              "</div>\n",
              "    <div class=\"colab-df-buttons\">\n",
              "\n",
              "  <div class=\"colab-df-container\">\n",
              "    <button class=\"colab-df-convert\" onclick=\"convertToInteractive('df-e239c38c-a158-4afd-bdb1-87e3ba0173e1')\"\n",
              "            title=\"Convert this dataframe to an interactive table.\"\n",
              "            style=\"display:none;\">\n",
              "\n",
              "  <svg xmlns=\"http://www.w3.org/2000/svg\" height=\"24px\" viewBox=\"0 -960 960 960\">\n",
              "    <path d=\"M120-120v-720h720v720H120Zm60-500h600v-160H180v160Zm220 220h160v-160H400v160Zm0 220h160v-160H400v160ZM180-400h160v-160H180v160Zm440 0h160v-160H620v160ZM180-180h160v-160H180v160Zm440 0h160v-160H620v160Z\"/>\n",
              "  </svg>\n",
              "    </button>\n",
              "\n",
              "  <style>\n",
              "    .colab-df-container {\n",
              "      display:flex;\n",
              "      gap: 12px;\n",
              "    }\n",
              "\n",
              "    .colab-df-convert {\n",
              "      background-color: #E8F0FE;\n",
              "      border: none;\n",
              "      border-radius: 50%;\n",
              "      cursor: pointer;\n",
              "      display: none;\n",
              "      fill: #1967D2;\n",
              "      height: 32px;\n",
              "      padding: 0 0 0 0;\n",
              "      width: 32px;\n",
              "    }\n",
              "\n",
              "    .colab-df-convert:hover {\n",
              "      background-color: #E2EBFA;\n",
              "      box-shadow: 0px 1px 2px rgba(60, 64, 67, 0.3), 0px 1px 3px 1px rgba(60, 64, 67, 0.15);\n",
              "      fill: #174EA6;\n",
              "    }\n",
              "\n",
              "    .colab-df-buttons div {\n",
              "      margin-bottom: 4px;\n",
              "    }\n",
              "\n",
              "    [theme=dark] .colab-df-convert {\n",
              "      background-color: #3B4455;\n",
              "      fill: #D2E3FC;\n",
              "    }\n",
              "\n",
              "    [theme=dark] .colab-df-convert:hover {\n",
              "      background-color: #434B5C;\n",
              "      box-shadow: 0px 1px 3px 1px rgba(0, 0, 0, 0.15);\n",
              "      filter: drop-shadow(0px 1px 2px rgba(0, 0, 0, 0.3));\n",
              "      fill: #FFFFFF;\n",
              "    }\n",
              "  </style>\n",
              "\n",
              "    <script>\n",
              "      const buttonEl =\n",
              "        document.querySelector('#df-e239c38c-a158-4afd-bdb1-87e3ba0173e1 button.colab-df-convert');\n",
              "      buttonEl.style.display =\n",
              "        google.colab.kernel.accessAllowed ? 'block' : 'none';\n",
              "\n",
              "      async function convertToInteractive(key) {\n",
              "        const element = document.querySelector('#df-e239c38c-a158-4afd-bdb1-87e3ba0173e1');\n",
              "        const dataTable =\n",
              "          await google.colab.kernel.invokeFunction('convertToInteractive',\n",
              "                                                    [key], {});\n",
              "        if (!dataTable) return;\n",
              "\n",
              "        const docLinkHtml = 'Like what you see? Visit the ' +\n",
              "          '<a target=\"_blank\" href=https://colab.research.google.com/notebooks/data_table.ipynb>data table notebook</a>'\n",
              "          + ' to learn more about interactive tables.';\n",
              "        element.innerHTML = '';\n",
              "        dataTable['output_type'] = 'display_data';\n",
              "        await google.colab.output.renderOutput(dataTable, element);\n",
              "        const docLink = document.createElement('div');\n",
              "        docLink.innerHTML = docLinkHtml;\n",
              "        element.appendChild(docLink);\n",
              "      }\n",
              "    </script>\n",
              "  </div>\n",
              "\n",
              "\n",
              "<div id=\"df-81181c5c-b8a3-4140-a389-66ae353eb323\">\n",
              "  <button class=\"colab-df-quickchart\" onclick=\"quickchart('df-81181c5c-b8a3-4140-a389-66ae353eb323')\"\n",
              "            title=\"Suggest charts\"\n",
              "            style=\"display:none;\">\n",
              "\n",
              "<svg xmlns=\"http://www.w3.org/2000/svg\" height=\"24px\"viewBox=\"0 0 24 24\"\n",
              "     width=\"24px\">\n",
              "    <g>\n",
              "        <path d=\"M19 3H5c-1.1 0-2 .9-2 2v14c0 1.1.9 2 2 2h14c1.1 0 2-.9 2-2V5c0-1.1-.9-2-2-2zM9 17H7v-7h2v7zm4 0h-2V7h2v10zm4 0h-2v-4h2v4z\"/>\n",
              "    </g>\n",
              "</svg>\n",
              "  </button>\n",
              "\n",
              "<style>\n",
              "  .colab-df-quickchart {\n",
              "      --bg-color: #E8F0FE;\n",
              "      --fill-color: #1967D2;\n",
              "      --hover-bg-color: #E2EBFA;\n",
              "      --hover-fill-color: #174EA6;\n",
              "      --disabled-fill-color: #AAA;\n",
              "      --disabled-bg-color: #DDD;\n",
              "  }\n",
              "\n",
              "  [theme=dark] .colab-df-quickchart {\n",
              "      --bg-color: #3B4455;\n",
              "      --fill-color: #D2E3FC;\n",
              "      --hover-bg-color: #434B5C;\n",
              "      --hover-fill-color: #FFFFFF;\n",
              "      --disabled-bg-color: #3B4455;\n",
              "      --disabled-fill-color: #666;\n",
              "  }\n",
              "\n",
              "  .colab-df-quickchart {\n",
              "    background-color: var(--bg-color);\n",
              "    border: none;\n",
              "    border-radius: 50%;\n",
              "    cursor: pointer;\n",
              "    display: none;\n",
              "    fill: var(--fill-color);\n",
              "    height: 32px;\n",
              "    padding: 0;\n",
              "    width: 32px;\n",
              "  }\n",
              "\n",
              "  .colab-df-quickchart:hover {\n",
              "    background-color: var(--hover-bg-color);\n",
              "    box-shadow: 0 1px 2px rgba(60, 64, 67, 0.3), 0 1px 3px 1px rgba(60, 64, 67, 0.15);\n",
              "    fill: var(--button-hover-fill-color);\n",
              "  }\n",
              "\n",
              "  .colab-df-quickchart-complete:disabled,\n",
              "  .colab-df-quickchart-complete:disabled:hover {\n",
              "    background-color: var(--disabled-bg-color);\n",
              "    fill: var(--disabled-fill-color);\n",
              "    box-shadow: none;\n",
              "  }\n",
              "\n",
              "  .colab-df-spinner {\n",
              "    border: 2px solid var(--fill-color);\n",
              "    border-color: transparent;\n",
              "    border-bottom-color: var(--fill-color);\n",
              "    animation:\n",
              "      spin 1s steps(1) infinite;\n",
              "  }\n",
              "\n",
              "  @keyframes spin {\n",
              "    0% {\n",
              "      border-color: transparent;\n",
              "      border-bottom-color: var(--fill-color);\n",
              "      border-left-color: var(--fill-color);\n",
              "    }\n",
              "    20% {\n",
              "      border-color: transparent;\n",
              "      border-left-color: var(--fill-color);\n",
              "      border-top-color: var(--fill-color);\n",
              "    }\n",
              "    30% {\n",
              "      border-color: transparent;\n",
              "      border-left-color: var(--fill-color);\n",
              "      border-top-color: var(--fill-color);\n",
              "      border-right-color: var(--fill-color);\n",
              "    }\n",
              "    40% {\n",
              "      border-color: transparent;\n",
              "      border-right-color: var(--fill-color);\n",
              "      border-top-color: var(--fill-color);\n",
              "    }\n",
              "    60% {\n",
              "      border-color: transparent;\n",
              "      border-right-color: var(--fill-color);\n",
              "    }\n",
              "    80% {\n",
              "      border-color: transparent;\n",
              "      border-right-color: var(--fill-color);\n",
              "      border-bottom-color: var(--fill-color);\n",
              "    }\n",
              "    90% {\n",
              "      border-color: transparent;\n",
              "      border-bottom-color: var(--fill-color);\n",
              "    }\n",
              "  }\n",
              "</style>\n",
              "\n",
              "  <script>\n",
              "    async function quickchart(key) {\n",
              "      const quickchartButtonEl =\n",
              "        document.querySelector('#' + key + ' button');\n",
              "      quickchartButtonEl.disabled = true;  // To prevent multiple clicks.\n",
              "      quickchartButtonEl.classList.add('colab-df-spinner');\n",
              "      try {\n",
              "        const charts = await google.colab.kernel.invokeFunction(\n",
              "            'suggestCharts', [key], {});\n",
              "      } catch (error) {\n",
              "        console.error('Error during call to suggestCharts:', error);\n",
              "      }\n",
              "      quickchartButtonEl.classList.remove('colab-df-spinner');\n",
              "      quickchartButtonEl.classList.add('colab-df-quickchart-complete');\n",
              "    }\n",
              "    (() => {\n",
              "      let quickchartButtonEl =\n",
              "        document.querySelector('#df-81181c5c-b8a3-4140-a389-66ae353eb323 button');\n",
              "      quickchartButtonEl.style.display =\n",
              "        google.colab.kernel.accessAllowed ? 'block' : 'none';\n",
              "    })();\n",
              "  </script>\n",
              "</div>\n",
              "\n",
              "    </div>\n",
              "  </div>\n"
            ],
            "text/plain": [
              "   CreditScore Geography  Gender  Age  Tenure    Balance  NumOfProducts  \\\n",
              "0          619    France  Female   42       2       0.00              1   \n",
              "1          608     Spain  Female   41       1   83807.86              1   \n",
              "2          502    France  Female   42       8  159660.80              3   \n",
              "3          699    France  Female   39       1       0.00              2   \n",
              "4          850     Spain  Female   43       2  125510.82              1   \n",
              "\n",
              "   HasCrCard  IsActiveMember  EstimatedSalary  \n",
              "0          1               1        101348.88  \n",
              "1          0               1        112542.58  \n",
              "2          1               0        113931.57  \n",
              "3          0               0         93826.63  \n",
              "4          1               1         79084.10  "
            ]
          },
          "execution_count": 12,
          "metadata": {},
          "output_type": "execute_result"
        }
      ],
      "source": [
        "X.head()"
      ]
    },
    {
      "cell_type": "code",
      "execution_count": 13,
      "metadata": {
        "colab": {
          "base_uri": "https://localhost:8080/"
        },
        "id": "65Q6SFG5FPZJ",
        "outputId": "fa66b2f5-aa49-41cf-cdbb-33d16913c397"
      },
      "outputs": [
        {
          "data": {
            "text/plain": [
              "0    1\n",
              "1    0\n",
              "2    1\n",
              "3    0\n",
              "4    0\n",
              "Name: Exited, dtype: int64"
            ]
          },
          "execution_count": 13,
          "metadata": {},
          "output_type": "execute_result"
        }
      ],
      "source": [
        "Y.head()"
      ]
    },
    {
      "cell_type": "markdown",
      "metadata": {
        "id": "kKPt4UJ9FaYJ"
      },
      "source": [
        "# 2. Feature engineering\n",
        "\n",
        "- handelling categorical features\n",
        "- drop categorical columns\n",
        "- concate encoded columns"
      ]
    },
    {
      "cell_type": "code",
      "execution_count": 14,
      "metadata": {
        "id": "kHDrIrWVFUBo"
      },
      "outputs": [],
      "source": [
        "# one hot encoding\n",
        "geography = pd.get_dummies(X['Geography'], drop_first = True)\n",
        "gender = pd.get_dummies(X['Gender'], drop_first = True)"
      ]
    },
    {
      "cell_type": "markdown",
      "metadata": {
        "id": "LEyeen5vG4Tv"
      },
      "source": [
        "Dropping Geography and Gender categorical values columns"
      ]
    },
    {
      "cell_type": "code",
      "execution_count": 15,
      "metadata": {
        "id": "uoNltuRkGQgr"
      },
      "outputs": [],
      "source": [
        "X = X.drop(['Geography','Gender'], axis =1) # axis = 1 is to deop column and not row"
      ]
    },
    {
      "cell_type": "code",
      "execution_count": 16,
      "metadata": {
        "colab": {
          "base_uri": "https://localhost:8080/",
          "height": 206
        },
        "id": "VfdvLWEVGVbU",
        "outputId": "65e0d8d2-f4ec-455f-e93d-071ab7dcf83d"
      },
      "outputs": [
        {
          "data": {
            "text/html": [
              "\n",
              "  <div id=\"df-e26b2e67-5cca-4d40-82b0-7086305341f8\" class=\"colab-df-container\">\n",
              "    <div>\n",
              "<style scoped>\n",
              "    .dataframe tbody tr th:only-of-type {\n",
              "        vertical-align: middle;\n",
              "    }\n",
              "\n",
              "    .dataframe tbody tr th {\n",
              "        vertical-align: top;\n",
              "    }\n",
              "\n",
              "    .dataframe thead th {\n",
              "        text-align: right;\n",
              "    }\n",
              "</style>\n",
              "<table border=\"1\" class=\"dataframe\">\n",
              "  <thead>\n",
              "    <tr style=\"text-align: right;\">\n",
              "      <th></th>\n",
              "      <th>CreditScore</th>\n",
              "      <th>Age</th>\n",
              "      <th>Tenure</th>\n",
              "      <th>Balance</th>\n",
              "      <th>NumOfProducts</th>\n",
              "      <th>HasCrCard</th>\n",
              "      <th>IsActiveMember</th>\n",
              "      <th>EstimatedSalary</th>\n",
              "    </tr>\n",
              "  </thead>\n",
              "  <tbody>\n",
              "    <tr>\n",
              "      <th>0</th>\n",
              "      <td>619</td>\n",
              "      <td>42</td>\n",
              "      <td>2</td>\n",
              "      <td>0.00</td>\n",
              "      <td>1</td>\n",
              "      <td>1</td>\n",
              "      <td>1</td>\n",
              "      <td>101348.88</td>\n",
              "    </tr>\n",
              "    <tr>\n",
              "      <th>1</th>\n",
              "      <td>608</td>\n",
              "      <td>41</td>\n",
              "      <td>1</td>\n",
              "      <td>83807.86</td>\n",
              "      <td>1</td>\n",
              "      <td>0</td>\n",
              "      <td>1</td>\n",
              "      <td>112542.58</td>\n",
              "    </tr>\n",
              "    <tr>\n",
              "      <th>2</th>\n",
              "      <td>502</td>\n",
              "      <td>42</td>\n",
              "      <td>8</td>\n",
              "      <td>159660.80</td>\n",
              "      <td>3</td>\n",
              "      <td>1</td>\n",
              "      <td>0</td>\n",
              "      <td>113931.57</td>\n",
              "    </tr>\n",
              "    <tr>\n",
              "      <th>3</th>\n",
              "      <td>699</td>\n",
              "      <td>39</td>\n",
              "      <td>1</td>\n",
              "      <td>0.00</td>\n",
              "      <td>2</td>\n",
              "      <td>0</td>\n",
              "      <td>0</td>\n",
              "      <td>93826.63</td>\n",
              "    </tr>\n",
              "    <tr>\n",
              "      <th>4</th>\n",
              "      <td>850</td>\n",
              "      <td>43</td>\n",
              "      <td>2</td>\n",
              "      <td>125510.82</td>\n",
              "      <td>1</td>\n",
              "      <td>1</td>\n",
              "      <td>1</td>\n",
              "      <td>79084.10</td>\n",
              "    </tr>\n",
              "  </tbody>\n",
              "</table>\n",
              "</div>\n",
              "    <div class=\"colab-df-buttons\">\n",
              "\n",
              "  <div class=\"colab-df-container\">\n",
              "    <button class=\"colab-df-convert\" onclick=\"convertToInteractive('df-e26b2e67-5cca-4d40-82b0-7086305341f8')\"\n",
              "            title=\"Convert this dataframe to an interactive table.\"\n",
              "            style=\"display:none;\">\n",
              "\n",
              "  <svg xmlns=\"http://www.w3.org/2000/svg\" height=\"24px\" viewBox=\"0 -960 960 960\">\n",
              "    <path d=\"M120-120v-720h720v720H120Zm60-500h600v-160H180v160Zm220 220h160v-160H400v160Zm0 220h160v-160H400v160ZM180-400h160v-160H180v160Zm440 0h160v-160H620v160ZM180-180h160v-160H180v160Zm440 0h160v-160H620v160Z\"/>\n",
              "  </svg>\n",
              "    </button>\n",
              "\n",
              "  <style>\n",
              "    .colab-df-container {\n",
              "      display:flex;\n",
              "      gap: 12px;\n",
              "    }\n",
              "\n",
              "    .colab-df-convert {\n",
              "      background-color: #E8F0FE;\n",
              "      border: none;\n",
              "      border-radius: 50%;\n",
              "      cursor: pointer;\n",
              "      display: none;\n",
              "      fill: #1967D2;\n",
              "      height: 32px;\n",
              "      padding: 0 0 0 0;\n",
              "      width: 32px;\n",
              "    }\n",
              "\n",
              "    .colab-df-convert:hover {\n",
              "      background-color: #E2EBFA;\n",
              "      box-shadow: 0px 1px 2px rgba(60, 64, 67, 0.3), 0px 1px 3px 1px rgba(60, 64, 67, 0.15);\n",
              "      fill: #174EA6;\n",
              "    }\n",
              "\n",
              "    .colab-df-buttons div {\n",
              "      margin-bottom: 4px;\n",
              "    }\n",
              "\n",
              "    [theme=dark] .colab-df-convert {\n",
              "      background-color: #3B4455;\n",
              "      fill: #D2E3FC;\n",
              "    }\n",
              "\n",
              "    [theme=dark] .colab-df-convert:hover {\n",
              "      background-color: #434B5C;\n",
              "      box-shadow: 0px 1px 3px 1px rgba(0, 0, 0, 0.15);\n",
              "      filter: drop-shadow(0px 1px 2px rgba(0, 0, 0, 0.3));\n",
              "      fill: #FFFFFF;\n",
              "    }\n",
              "  </style>\n",
              "\n",
              "    <script>\n",
              "      const buttonEl =\n",
              "        document.querySelector('#df-e26b2e67-5cca-4d40-82b0-7086305341f8 button.colab-df-convert');\n",
              "      buttonEl.style.display =\n",
              "        google.colab.kernel.accessAllowed ? 'block' : 'none';\n",
              "\n",
              "      async function convertToInteractive(key) {\n",
              "        const element = document.querySelector('#df-e26b2e67-5cca-4d40-82b0-7086305341f8');\n",
              "        const dataTable =\n",
              "          await google.colab.kernel.invokeFunction('convertToInteractive',\n",
              "                                                    [key], {});\n",
              "        if (!dataTable) return;\n",
              "\n",
              "        const docLinkHtml = 'Like what you see? Visit the ' +\n",
              "          '<a target=\"_blank\" href=https://colab.research.google.com/notebooks/data_table.ipynb>data table notebook</a>'\n",
              "          + ' to learn more about interactive tables.';\n",
              "        element.innerHTML = '';\n",
              "        dataTable['output_type'] = 'display_data';\n",
              "        await google.colab.output.renderOutput(dataTable, element);\n",
              "        const docLink = document.createElement('div');\n",
              "        docLink.innerHTML = docLinkHtml;\n",
              "        element.appendChild(docLink);\n",
              "      }\n",
              "    </script>\n",
              "  </div>\n",
              "\n",
              "\n",
              "<div id=\"df-f2021386-e600-4f60-ae6e-297aa51908b2\">\n",
              "  <button class=\"colab-df-quickchart\" onclick=\"quickchart('df-f2021386-e600-4f60-ae6e-297aa51908b2')\"\n",
              "            title=\"Suggest charts\"\n",
              "            style=\"display:none;\">\n",
              "\n",
              "<svg xmlns=\"http://www.w3.org/2000/svg\" height=\"24px\"viewBox=\"0 0 24 24\"\n",
              "     width=\"24px\">\n",
              "    <g>\n",
              "        <path d=\"M19 3H5c-1.1 0-2 .9-2 2v14c0 1.1.9 2 2 2h14c1.1 0 2-.9 2-2V5c0-1.1-.9-2-2-2zM9 17H7v-7h2v7zm4 0h-2V7h2v10zm4 0h-2v-4h2v4z\"/>\n",
              "    </g>\n",
              "</svg>\n",
              "  </button>\n",
              "\n",
              "<style>\n",
              "  .colab-df-quickchart {\n",
              "      --bg-color: #E8F0FE;\n",
              "      --fill-color: #1967D2;\n",
              "      --hover-bg-color: #E2EBFA;\n",
              "      --hover-fill-color: #174EA6;\n",
              "      --disabled-fill-color: #AAA;\n",
              "      --disabled-bg-color: #DDD;\n",
              "  }\n",
              "\n",
              "  [theme=dark] .colab-df-quickchart {\n",
              "      --bg-color: #3B4455;\n",
              "      --fill-color: #D2E3FC;\n",
              "      --hover-bg-color: #434B5C;\n",
              "      --hover-fill-color: #FFFFFF;\n",
              "      --disabled-bg-color: #3B4455;\n",
              "      --disabled-fill-color: #666;\n",
              "  }\n",
              "\n",
              "  .colab-df-quickchart {\n",
              "    background-color: var(--bg-color);\n",
              "    border: none;\n",
              "    border-radius: 50%;\n",
              "    cursor: pointer;\n",
              "    display: none;\n",
              "    fill: var(--fill-color);\n",
              "    height: 32px;\n",
              "    padding: 0;\n",
              "    width: 32px;\n",
              "  }\n",
              "\n",
              "  .colab-df-quickchart:hover {\n",
              "    background-color: var(--hover-bg-color);\n",
              "    box-shadow: 0 1px 2px rgba(60, 64, 67, 0.3), 0 1px 3px 1px rgba(60, 64, 67, 0.15);\n",
              "    fill: var(--button-hover-fill-color);\n",
              "  }\n",
              "\n",
              "  .colab-df-quickchart-complete:disabled,\n",
              "  .colab-df-quickchart-complete:disabled:hover {\n",
              "    background-color: var(--disabled-bg-color);\n",
              "    fill: var(--disabled-fill-color);\n",
              "    box-shadow: none;\n",
              "  }\n",
              "\n",
              "  .colab-df-spinner {\n",
              "    border: 2px solid var(--fill-color);\n",
              "    border-color: transparent;\n",
              "    border-bottom-color: var(--fill-color);\n",
              "    animation:\n",
              "      spin 1s steps(1) infinite;\n",
              "  }\n",
              "\n",
              "  @keyframes spin {\n",
              "    0% {\n",
              "      border-color: transparent;\n",
              "      border-bottom-color: var(--fill-color);\n",
              "      border-left-color: var(--fill-color);\n",
              "    }\n",
              "    20% {\n",
              "      border-color: transparent;\n",
              "      border-left-color: var(--fill-color);\n",
              "      border-top-color: var(--fill-color);\n",
              "    }\n",
              "    30% {\n",
              "      border-color: transparent;\n",
              "      border-left-color: var(--fill-color);\n",
              "      border-top-color: var(--fill-color);\n",
              "      border-right-color: var(--fill-color);\n",
              "    }\n",
              "    40% {\n",
              "      border-color: transparent;\n",
              "      border-right-color: var(--fill-color);\n",
              "      border-top-color: var(--fill-color);\n",
              "    }\n",
              "    60% {\n",
              "      border-color: transparent;\n",
              "      border-right-color: var(--fill-color);\n",
              "    }\n",
              "    80% {\n",
              "      border-color: transparent;\n",
              "      border-right-color: var(--fill-color);\n",
              "      border-bottom-color: var(--fill-color);\n",
              "    }\n",
              "    90% {\n",
              "      border-color: transparent;\n",
              "      border-bottom-color: var(--fill-color);\n",
              "    }\n",
              "  }\n",
              "</style>\n",
              "\n",
              "  <script>\n",
              "    async function quickchart(key) {\n",
              "      const quickchartButtonEl =\n",
              "        document.querySelector('#' + key + ' button');\n",
              "      quickchartButtonEl.disabled = true;  // To prevent multiple clicks.\n",
              "      quickchartButtonEl.classList.add('colab-df-spinner');\n",
              "      try {\n",
              "        const charts = await google.colab.kernel.invokeFunction(\n",
              "            'suggestCharts', [key], {});\n",
              "      } catch (error) {\n",
              "        console.error('Error during call to suggestCharts:', error);\n",
              "      }\n",
              "      quickchartButtonEl.classList.remove('colab-df-spinner');\n",
              "      quickchartButtonEl.classList.add('colab-df-quickchart-complete');\n",
              "    }\n",
              "    (() => {\n",
              "      let quickchartButtonEl =\n",
              "        document.querySelector('#df-f2021386-e600-4f60-ae6e-297aa51908b2 button');\n",
              "      quickchartButtonEl.style.display =\n",
              "        google.colab.kernel.accessAllowed ? 'block' : 'none';\n",
              "    })();\n",
              "  </script>\n",
              "</div>\n",
              "\n",
              "    </div>\n",
              "  </div>\n"
            ],
            "text/plain": [
              "   CreditScore  Age  Tenure    Balance  NumOfProducts  HasCrCard  \\\n",
              "0          619   42       2       0.00              1          1   \n",
              "1          608   41       1   83807.86              1          0   \n",
              "2          502   42       8  159660.80              3          1   \n",
              "3          699   39       1       0.00              2          0   \n",
              "4          850   43       2  125510.82              1          1   \n",
              "\n",
              "   IsActiveMember  EstimatedSalary  \n",
              "0               1        101348.88  \n",
              "1               1        112542.58  \n",
              "2               0        113931.57  \n",
              "3               0         93826.63  \n",
              "4               1         79084.10  "
            ]
          },
          "execution_count": 16,
          "metadata": {},
          "output_type": "execute_result"
        }
      ],
      "source": [
        "X.head()"
      ]
    },
    {
      "cell_type": "markdown",
      "metadata": {
        "id": "d-tojfNdHgrQ"
      },
      "source": [
        "Concanating Encoded values"
      ]
    },
    {
      "cell_type": "code",
      "execution_count": 17,
      "metadata": {
        "id": "nuCMVHjCHOOz"
      },
      "outputs": [],
      "source": [
        "X = pd.concat([X,geography,gender],axis = 1)"
      ]
    },
    {
      "cell_type": "code",
      "execution_count": 18,
      "metadata": {
        "colab": {
          "base_uri": "https://localhost:8080/",
          "height": 226
        },
        "id": "vaoffTm6H0mS",
        "outputId": "75218d2d-dcc6-40ce-b391-56883195a3a9"
      },
      "outputs": [
        {
          "data": {
            "text/html": [
              "\n",
              "  <div id=\"df-89f876a8-a23b-4131-ba7d-7e1d5645d561\" class=\"colab-df-container\">\n",
              "    <div>\n",
              "<style scoped>\n",
              "    .dataframe tbody tr th:only-of-type {\n",
              "        vertical-align: middle;\n",
              "    }\n",
              "\n",
              "    .dataframe tbody tr th {\n",
              "        vertical-align: top;\n",
              "    }\n",
              "\n",
              "    .dataframe thead th {\n",
              "        text-align: right;\n",
              "    }\n",
              "</style>\n",
              "<table border=\"1\" class=\"dataframe\">\n",
              "  <thead>\n",
              "    <tr style=\"text-align: right;\">\n",
              "      <th></th>\n",
              "      <th>CreditScore</th>\n",
              "      <th>Age</th>\n",
              "      <th>Tenure</th>\n",
              "      <th>Balance</th>\n",
              "      <th>NumOfProducts</th>\n",
              "      <th>HasCrCard</th>\n",
              "      <th>IsActiveMember</th>\n",
              "      <th>EstimatedSalary</th>\n",
              "      <th>Germany</th>\n",
              "      <th>Spain</th>\n",
              "      <th>Male</th>\n",
              "    </tr>\n",
              "  </thead>\n",
              "  <tbody>\n",
              "    <tr>\n",
              "      <th>0</th>\n",
              "      <td>619</td>\n",
              "      <td>42</td>\n",
              "      <td>2</td>\n",
              "      <td>0.00</td>\n",
              "      <td>1</td>\n",
              "      <td>1</td>\n",
              "      <td>1</td>\n",
              "      <td>101348.88</td>\n",
              "      <td>0</td>\n",
              "      <td>0</td>\n",
              "      <td>0</td>\n",
              "    </tr>\n",
              "    <tr>\n",
              "      <th>1</th>\n",
              "      <td>608</td>\n",
              "      <td>41</td>\n",
              "      <td>1</td>\n",
              "      <td>83807.86</td>\n",
              "      <td>1</td>\n",
              "      <td>0</td>\n",
              "      <td>1</td>\n",
              "      <td>112542.58</td>\n",
              "      <td>0</td>\n",
              "      <td>1</td>\n",
              "      <td>0</td>\n",
              "    </tr>\n",
              "    <tr>\n",
              "      <th>2</th>\n",
              "      <td>502</td>\n",
              "      <td>42</td>\n",
              "      <td>8</td>\n",
              "      <td>159660.80</td>\n",
              "      <td>3</td>\n",
              "      <td>1</td>\n",
              "      <td>0</td>\n",
              "      <td>113931.57</td>\n",
              "      <td>0</td>\n",
              "      <td>0</td>\n",
              "      <td>0</td>\n",
              "    </tr>\n",
              "    <tr>\n",
              "      <th>3</th>\n",
              "      <td>699</td>\n",
              "      <td>39</td>\n",
              "      <td>1</td>\n",
              "      <td>0.00</td>\n",
              "      <td>2</td>\n",
              "      <td>0</td>\n",
              "      <td>0</td>\n",
              "      <td>93826.63</td>\n",
              "      <td>0</td>\n",
              "      <td>0</td>\n",
              "      <td>0</td>\n",
              "    </tr>\n",
              "    <tr>\n",
              "      <th>4</th>\n",
              "      <td>850</td>\n",
              "      <td>43</td>\n",
              "      <td>2</td>\n",
              "      <td>125510.82</td>\n",
              "      <td>1</td>\n",
              "      <td>1</td>\n",
              "      <td>1</td>\n",
              "      <td>79084.10</td>\n",
              "      <td>0</td>\n",
              "      <td>1</td>\n",
              "      <td>0</td>\n",
              "    </tr>\n",
              "  </tbody>\n",
              "</table>\n",
              "</div>\n",
              "    <div class=\"colab-df-buttons\">\n",
              "\n",
              "  <div class=\"colab-df-container\">\n",
              "    <button class=\"colab-df-convert\" onclick=\"convertToInteractive('df-89f876a8-a23b-4131-ba7d-7e1d5645d561')\"\n",
              "            title=\"Convert this dataframe to an interactive table.\"\n",
              "            style=\"display:none;\">\n",
              "\n",
              "  <svg xmlns=\"http://www.w3.org/2000/svg\" height=\"24px\" viewBox=\"0 -960 960 960\">\n",
              "    <path d=\"M120-120v-720h720v720H120Zm60-500h600v-160H180v160Zm220 220h160v-160H400v160Zm0 220h160v-160H400v160ZM180-400h160v-160H180v160Zm440 0h160v-160H620v160ZM180-180h160v-160H180v160Zm440 0h160v-160H620v160Z\"/>\n",
              "  </svg>\n",
              "    </button>\n",
              "\n",
              "  <style>\n",
              "    .colab-df-container {\n",
              "      display:flex;\n",
              "      gap: 12px;\n",
              "    }\n",
              "\n",
              "    .colab-df-convert {\n",
              "      background-color: #E8F0FE;\n",
              "      border: none;\n",
              "      border-radius: 50%;\n",
              "      cursor: pointer;\n",
              "      display: none;\n",
              "      fill: #1967D2;\n",
              "      height: 32px;\n",
              "      padding: 0 0 0 0;\n",
              "      width: 32px;\n",
              "    }\n",
              "\n",
              "    .colab-df-convert:hover {\n",
              "      background-color: #E2EBFA;\n",
              "      box-shadow: 0px 1px 2px rgba(60, 64, 67, 0.3), 0px 1px 3px 1px rgba(60, 64, 67, 0.15);\n",
              "      fill: #174EA6;\n",
              "    }\n",
              "\n",
              "    .colab-df-buttons div {\n",
              "      margin-bottom: 4px;\n",
              "    }\n",
              "\n",
              "    [theme=dark] .colab-df-convert {\n",
              "      background-color: #3B4455;\n",
              "      fill: #D2E3FC;\n",
              "    }\n",
              "\n",
              "    [theme=dark] .colab-df-convert:hover {\n",
              "      background-color: #434B5C;\n",
              "      box-shadow: 0px 1px 3px 1px rgba(0, 0, 0, 0.15);\n",
              "      filter: drop-shadow(0px 1px 2px rgba(0, 0, 0, 0.3));\n",
              "      fill: #FFFFFF;\n",
              "    }\n",
              "  </style>\n",
              "\n",
              "    <script>\n",
              "      const buttonEl =\n",
              "        document.querySelector('#df-89f876a8-a23b-4131-ba7d-7e1d5645d561 button.colab-df-convert');\n",
              "      buttonEl.style.display =\n",
              "        google.colab.kernel.accessAllowed ? 'block' : 'none';\n",
              "\n",
              "      async function convertToInteractive(key) {\n",
              "        const element = document.querySelector('#df-89f876a8-a23b-4131-ba7d-7e1d5645d561');\n",
              "        const dataTable =\n",
              "          await google.colab.kernel.invokeFunction('convertToInteractive',\n",
              "                                                    [key], {});\n",
              "        if (!dataTable) return;\n",
              "\n",
              "        const docLinkHtml = 'Like what you see? Visit the ' +\n",
              "          '<a target=\"_blank\" href=https://colab.research.google.com/notebooks/data_table.ipynb>data table notebook</a>'\n",
              "          + ' to learn more about interactive tables.';\n",
              "        element.innerHTML = '';\n",
              "        dataTable['output_type'] = 'display_data';\n",
              "        await google.colab.output.renderOutput(dataTable, element);\n",
              "        const docLink = document.createElement('div');\n",
              "        docLink.innerHTML = docLinkHtml;\n",
              "        element.appendChild(docLink);\n",
              "      }\n",
              "    </script>\n",
              "  </div>\n",
              "\n",
              "\n",
              "<div id=\"df-f38aa8bc-a485-47cd-9da6-801daba81333\">\n",
              "  <button class=\"colab-df-quickchart\" onclick=\"quickchart('df-f38aa8bc-a485-47cd-9da6-801daba81333')\"\n",
              "            title=\"Suggest charts\"\n",
              "            style=\"display:none;\">\n",
              "\n",
              "<svg xmlns=\"http://www.w3.org/2000/svg\" height=\"24px\"viewBox=\"0 0 24 24\"\n",
              "     width=\"24px\">\n",
              "    <g>\n",
              "        <path d=\"M19 3H5c-1.1 0-2 .9-2 2v14c0 1.1.9 2 2 2h14c1.1 0 2-.9 2-2V5c0-1.1-.9-2-2-2zM9 17H7v-7h2v7zm4 0h-2V7h2v10zm4 0h-2v-4h2v4z\"/>\n",
              "    </g>\n",
              "</svg>\n",
              "  </button>\n",
              "\n",
              "<style>\n",
              "  .colab-df-quickchart {\n",
              "      --bg-color: #E8F0FE;\n",
              "      --fill-color: #1967D2;\n",
              "      --hover-bg-color: #E2EBFA;\n",
              "      --hover-fill-color: #174EA6;\n",
              "      --disabled-fill-color: #AAA;\n",
              "      --disabled-bg-color: #DDD;\n",
              "  }\n",
              "\n",
              "  [theme=dark] .colab-df-quickchart {\n",
              "      --bg-color: #3B4455;\n",
              "      --fill-color: #D2E3FC;\n",
              "      --hover-bg-color: #434B5C;\n",
              "      --hover-fill-color: #FFFFFF;\n",
              "      --disabled-bg-color: #3B4455;\n",
              "      --disabled-fill-color: #666;\n",
              "  }\n",
              "\n",
              "  .colab-df-quickchart {\n",
              "    background-color: var(--bg-color);\n",
              "    border: none;\n",
              "    border-radius: 50%;\n",
              "    cursor: pointer;\n",
              "    display: none;\n",
              "    fill: var(--fill-color);\n",
              "    height: 32px;\n",
              "    padding: 0;\n",
              "    width: 32px;\n",
              "  }\n",
              "\n",
              "  .colab-df-quickchart:hover {\n",
              "    background-color: var(--hover-bg-color);\n",
              "    box-shadow: 0 1px 2px rgba(60, 64, 67, 0.3), 0 1px 3px 1px rgba(60, 64, 67, 0.15);\n",
              "    fill: var(--button-hover-fill-color);\n",
              "  }\n",
              "\n",
              "  .colab-df-quickchart-complete:disabled,\n",
              "  .colab-df-quickchart-complete:disabled:hover {\n",
              "    background-color: var(--disabled-bg-color);\n",
              "    fill: var(--disabled-fill-color);\n",
              "    box-shadow: none;\n",
              "  }\n",
              "\n",
              "  .colab-df-spinner {\n",
              "    border: 2px solid var(--fill-color);\n",
              "    border-color: transparent;\n",
              "    border-bottom-color: var(--fill-color);\n",
              "    animation:\n",
              "      spin 1s steps(1) infinite;\n",
              "  }\n",
              "\n",
              "  @keyframes spin {\n",
              "    0% {\n",
              "      border-color: transparent;\n",
              "      border-bottom-color: var(--fill-color);\n",
              "      border-left-color: var(--fill-color);\n",
              "    }\n",
              "    20% {\n",
              "      border-color: transparent;\n",
              "      border-left-color: var(--fill-color);\n",
              "      border-top-color: var(--fill-color);\n",
              "    }\n",
              "    30% {\n",
              "      border-color: transparent;\n",
              "      border-left-color: var(--fill-color);\n",
              "      border-top-color: var(--fill-color);\n",
              "      border-right-color: var(--fill-color);\n",
              "    }\n",
              "    40% {\n",
              "      border-color: transparent;\n",
              "      border-right-color: var(--fill-color);\n",
              "      border-top-color: var(--fill-color);\n",
              "    }\n",
              "    60% {\n",
              "      border-color: transparent;\n",
              "      border-right-color: var(--fill-color);\n",
              "    }\n",
              "    80% {\n",
              "      border-color: transparent;\n",
              "      border-right-color: var(--fill-color);\n",
              "      border-bottom-color: var(--fill-color);\n",
              "    }\n",
              "    90% {\n",
              "      border-color: transparent;\n",
              "      border-bottom-color: var(--fill-color);\n",
              "    }\n",
              "  }\n",
              "</style>\n",
              "\n",
              "  <script>\n",
              "    async function quickchart(key) {\n",
              "      const quickchartButtonEl =\n",
              "        document.querySelector('#' + key + ' button');\n",
              "      quickchartButtonEl.disabled = true;  // To prevent multiple clicks.\n",
              "      quickchartButtonEl.classList.add('colab-df-spinner');\n",
              "      try {\n",
              "        const charts = await google.colab.kernel.invokeFunction(\n",
              "            'suggestCharts', [key], {});\n",
              "      } catch (error) {\n",
              "        console.error('Error during call to suggestCharts:', error);\n",
              "      }\n",
              "      quickchartButtonEl.classList.remove('colab-df-spinner');\n",
              "      quickchartButtonEl.classList.add('colab-df-quickchart-complete');\n",
              "    }\n",
              "    (() => {\n",
              "      let quickchartButtonEl =\n",
              "        document.querySelector('#df-f38aa8bc-a485-47cd-9da6-801daba81333 button');\n",
              "      quickchartButtonEl.style.display =\n",
              "        google.colab.kernel.accessAllowed ? 'block' : 'none';\n",
              "    })();\n",
              "  </script>\n",
              "</div>\n",
              "\n",
              "    </div>\n",
              "  </div>\n"
            ],
            "text/plain": [
              "   CreditScore  Age  Tenure    Balance  NumOfProducts  HasCrCard  \\\n",
              "0          619   42       2       0.00              1          1   \n",
              "1          608   41       1   83807.86              1          0   \n",
              "2          502   42       8  159660.80              3          1   \n",
              "3          699   39       1       0.00              2          0   \n",
              "4          850   43       2  125510.82              1          1   \n",
              "\n",
              "   IsActiveMember  EstimatedSalary  Germany  Spain  Male  \n",
              "0               1        101348.88        0      0     0  \n",
              "1               1        112542.58        0      1     0  \n",
              "2               0        113931.57        0      0     0  \n",
              "3               0         93826.63        0      0     0  \n",
              "4               1         79084.10        0      1     0  "
            ]
          },
          "execution_count": 18,
          "metadata": {},
          "output_type": "execute_result"
        }
      ],
      "source": [
        "X.head()"
      ]
    },
    {
      "cell_type": "markdown",
      "metadata": {
        "id": "4GD_3NG-IGo9"
      },
      "source": [
        "# 3. Train Test Split\n",
        "- splitting dataset into train test split"
      ]
    },
    {
      "cell_type": "code",
      "execution_count": 19,
      "metadata": {
        "id": "az0nGm3eH5Bn"
      },
      "outputs": [],
      "source": [
        "from sklearn.model_selection import train_test_split"
      ]
    },
    {
      "cell_type": "code",
      "execution_count": 20,
      "metadata": {
        "id": "AYa-WYRAIbKM"
      },
      "outputs": [],
      "source": [
        "X_train , X_test , Y_train , Y_test = train_test_split(X,Y,train_size = 0.8 , random_state = 0)"
      ]
    },
    {
      "cell_type": "code",
      "execution_count": 21,
      "metadata": {
        "colab": {
          "base_uri": "https://localhost:8080/"
        },
        "id": "A4RGg17_JJZu",
        "outputId": "83268a68-fa1f-443c-9422-21b5927eddda"
      },
      "outputs": [
        {
          "data": {
            "text/plain": [
              "2000"
            ]
          },
          "execution_count": 21,
          "metadata": {},
          "output_type": "execute_result"
        }
      ],
      "source": [
        "len(X_test)"
      ]
    },
    {
      "cell_type": "markdown",
      "metadata": {
        "id": "yldwSyS7VFI3"
      },
      "source": [
        "# 4. Feature Scaling"
      ]
    },
    {
      "cell_type": "code",
      "execution_count": 22,
      "metadata": {
        "id": "AFXIPpuAJQgg"
      },
      "outputs": [],
      "source": [
        "from sklearn.preprocessing import StandardScaler"
      ]
    },
    {
      "cell_type": "code",
      "execution_count": 23,
      "metadata": {
        "id": "JQ7vQe7fjU9V"
      },
      "outputs": [],
      "source": [
        "sc = StandardScaler()\n",
        "X_train = sc.fit_transform(X_train)\n",
        "X_test = sc.transform(X_test)"
      ]
    },
    {
      "cell_type": "code",
      "execution_count": 24,
      "metadata": {
        "colab": {
          "base_uri": "https://localhost:8080/"
        },
        "id": "xtu-FNBaluKD",
        "outputId": "765e43e5-2f2d-4c51-8a5c-c622b21ef042"
      },
      "outputs": [
        {
          "data": {
            "text/plain": [
              "array([[ 0.16958176, -0.46460796,  0.00666099, ..., -0.5698444 ,\n",
              "         1.74309049, -1.09168714],\n",
              "       [-2.30455945,  0.30102557, -1.37744033, ...,  1.75486502,\n",
              "        -0.57369368,  0.91601335],\n",
              "       [-1.19119591, -0.94312892, -1.031415  , ..., -0.5698444 ,\n",
              "        -0.57369368, -1.09168714],\n",
              "       ...,\n",
              "       [ 0.9015152 , -0.36890377,  0.00666099, ..., -0.5698444 ,\n",
              "        -0.57369368,  0.91601335],\n",
              "       [-0.62420521, -0.08179119,  1.39076231, ..., -0.5698444 ,\n",
              "         1.74309049, -1.09168714],\n",
              "       [-0.28401079,  0.87525072, -1.37744033, ...,  1.75486502,\n",
              "        -0.57369368, -1.09168714]])"
            ]
          },
          "execution_count": 24,
          "metadata": {},
          "output_type": "execute_result"
        }
      ],
      "source": [
        "X_train"
      ]
    },
    {
      "cell_type": "code",
      "execution_count": 25,
      "metadata": {
        "colab": {
          "base_uri": "https://localhost:8080/"
        },
        "id": "UJEZNL9_l2Nq",
        "outputId": "16cc7c4f-46df-47ff-cc8e-158dbb42e4eb"
      },
      "outputs": [
        {
          "data": {
            "text/plain": [
              "(8000, 11)"
            ]
          },
          "execution_count": 25,
          "metadata": {},
          "output_type": "execute_result"
        }
      ],
      "source": [
        "X_train.shape"
      ]
    },
    {
      "cell_type": "code",
      "execution_count": 26,
      "metadata": {
        "colab": {
          "base_uri": "https://localhost:8080/"
        },
        "id": "wGrObJ8FmFvJ",
        "outputId": "77373f3f-0619-4aa6-cfa4-6d2bd1a7cf82"
      },
      "outputs": [
        {
          "data": {
            "text/plain": [
              "array([[-0.55204276, -0.36890377,  1.04473698, ...,  1.75486502,\n",
              "        -0.57369368, -1.09168714],\n",
              "       [-1.31490297,  0.10961719, -1.031415  , ..., -0.5698444 ,\n",
              "        -0.57369368, -1.09168714],\n",
              "       [ 0.57162971,  0.30102557,  1.04473698, ..., -0.5698444 ,\n",
              "         1.74309049, -1.09168714],\n",
              "       ...,\n",
              "       [-0.74791227, -0.27319958, -1.37744033, ..., -0.5698444 ,\n",
              "         1.74309049,  0.91601335],\n",
              "       [-0.00566991, -0.46460796, -0.33936434, ...,  1.75486502,\n",
              "        -0.57369368,  0.91601335],\n",
              "       [-0.79945688, -0.84742473,  1.04473698, ...,  1.75486502,\n",
              "        -0.57369368,  0.91601335]])"
            ]
          },
          "execution_count": 26,
          "metadata": {},
          "output_type": "execute_result"
        }
      ],
      "source": [
        "X_test"
      ]
    },
    {
      "cell_type": "code",
      "execution_count": 27,
      "metadata": {
        "colab": {
          "base_uri": "https://localhost:8080/"
        },
        "id": "PqzhzMDpmKH9",
        "outputId": "225a3690-3278-4a5b-d3a8-fdd16ab16a51"
      },
      "outputs": [
        {
          "data": {
            "text/plain": [
              "(2000, 11)"
            ]
          },
          "execution_count": 27,
          "metadata": {},
          "output_type": "execute_result"
        }
      ],
      "source": [
        "X_test.shape"
      ]
    },
    {
      "cell_type": "markdown",
      "metadata": {
        "id": "p7RjMnqfmYq8"
      },
      "source": [
        "# 5. Create The ANN"
      ]
    },
    {
      "cell_type": "markdown",
      "metadata": {
        "id": "eL6x2YPmnn9D"
      },
      "source": [
        "- Tensorflow is a liberary used for DL , NLP etc.\n",
        "- Keras is a wrapper for tenserflow"
      ]
    },
    {
      "cell_type": "code",
      "execution_count": 28,
      "metadata": {
        "id": "wQdCgOYrmPsN"
      },
      "outputs": [],
      "source": [
        "from tensorflow.keras.models import Sequential\n",
        "from tensorflow.keras.layers import Dense\n",
        "from tensorflow.keras.layers import LeakyReLU,PReLU,ELU,ReLU\n",
        "from tensorflow.keras.layers import Dropout\n",
        "\n"
      ]
    },
    {
      "cell_type": "code",
      "execution_count": 29,
      "metadata": {
        "id": "0gCc114loHZM"
      },
      "outputs": [],
      "source": [
        "# Lets initialise the ANN\n",
        "classifier = Sequential()"
      ]
    },
    {
      "cell_type": "code",
      "execution_count": 30,
      "metadata": {
        "id": "aVxr4rlUqsY7"
      },
      "outputs": [],
      "source": [
        "# Adding Input layer\n",
        "classifier.add(Dense(units = 11,activation = 'relu',))"
      ]
    },
    {
      "cell_type": "code",
      "execution_count": 31,
      "metadata": {
        "id": "YIEyeGm5rCy-"
      },
      "outputs": [],
      "source": [
        "# Adding 1st Hidden Layer\n",
        "classifier.add(Dense(units = 7,activation = 'relu'))\n"
      ]
    },
    {
      "cell_type": "code",
      "execution_count": 32,
      "metadata": {
        "id": "z8aETO0trQ8g"
      },
      "outputs": [],
      "source": [
        "#Adding 2nd Hidden Layer\n",
        "classifier.add(Dense(units = 6 , activation = 'relu'))"
      ]
    },
    {
      "cell_type": "code",
      "execution_count": 33,
      "metadata": {
        "id": "InexR-UCrnu3"
      },
      "outputs": [],
      "source": [
        "# Adding O/P layer\n",
        "classifier.add(Dense(units = 1 , activation = 'sigmoid'))"
      ]
    },
    {
      "cell_type": "markdown",
      "metadata": {
        "id": "EG6jgol2sDZ2"
      },
      "source": [
        "Compile Entire Neural Network"
      ]
    },
    {
      "cell_type": "code",
      "execution_count": 34,
      "metadata": {
        "id": "aGPe0D4Lr77D"
      },
      "outputs": [],
      "source": [
        "classifier.compile(optimizer='adam', loss = 'binary_crossentropy',metrics=['accuracy'])"
      ]
    },
    {
      "cell_type": "markdown",
      "metadata": {
        "id": "Y8-luzhHxYaj"
      },
      "source": [
        "Early Stopping is used when the accuracy is not increasing , so it will stop it their."
      ]
    },
    {
      "cell_type": "code",
      "execution_count": 35,
      "metadata": {
        "id": "le-sddesxiID"
      },
      "outputs": [],
      "source": [
        "import tensorflow as tf\n",
        "early_stopping = tf.keras.callbacks.EarlyStopping(\n",
        "    monitor=\"val_loss\",\n",
        "    min_delta=0.0001,\n",
        "    patience=20,\n",
        "    verbose=1,\n",
        "    mode=\"auto\",\n",
        "    baseline=None,\n",
        "    restore_best_weights=False,\n",
        "    start_from_epoch=0,\n",
        ")"
      ]
    },
    {
      "cell_type": "code",
      "execution_count": 36,
      "metadata": {
        "colab": {
          "base_uri": "https://localhost:8080/"
        },
        "id": "DHkvLQCzsiQE",
        "outputId": "415af39e-7424-49ac-fbdf-7cc20689e36b"
      },
      "outputs": [
        {
          "name": "stdout",
          "output_type": "stream",
          "text": [
            "Epoch 1/1000\n",
            "168/168 [==============================] - 2s 4ms/step - loss: 0.5884 - accuracy: 0.7511 - val_loss: 0.4846 - val_accuracy: 0.7955\n",
            "Epoch 2/1000\n",
            "168/168 [==============================] - 0s 3ms/step - loss: 0.4648 - accuracy: 0.7968 - val_loss: 0.4520 - val_accuracy: 0.7959\n",
            "Epoch 3/1000\n",
            "168/168 [==============================] - 0s 3ms/step - loss: 0.4386 - accuracy: 0.7981 - val_loss: 0.4363 - val_accuracy: 0.7978\n",
            "Epoch 4/1000\n",
            "168/168 [==============================] - 1s 3ms/step - loss: 0.4249 - accuracy: 0.8031 - val_loss: 0.4285 - val_accuracy: 0.8065\n",
            "Epoch 5/1000\n",
            "168/168 [==============================] - 1s 4ms/step - loss: 0.4171 - accuracy: 0.8138 - val_loss: 0.4228 - val_accuracy: 0.8118\n",
            "Epoch 6/1000\n",
            "168/168 [==============================] - 1s 3ms/step - loss: 0.4111 - accuracy: 0.8205 - val_loss: 0.4181 - val_accuracy: 0.8183\n",
            "Epoch 7/1000\n",
            "168/168 [==============================] - 0s 3ms/step - loss: 0.4040 - accuracy: 0.8261 - val_loss: 0.4166 - val_accuracy: 0.8179\n",
            "Epoch 8/1000\n",
            "168/168 [==============================] - 1s 3ms/step - loss: 0.3980 - accuracy: 0.8289 - val_loss: 0.4097 - val_accuracy: 0.8209\n",
            "Epoch 9/1000\n",
            "168/168 [==============================] - 1s 3ms/step - loss: 0.3908 - accuracy: 0.8349 - val_loss: 0.4058 - val_accuracy: 0.8209\n",
            "Epoch 10/1000\n",
            "168/168 [==============================] - 0s 3ms/step - loss: 0.3841 - accuracy: 0.8377 - val_loss: 0.4004 - val_accuracy: 0.8277\n",
            "Epoch 11/1000\n",
            "168/168 [==============================] - 0s 3ms/step - loss: 0.3771 - accuracy: 0.8405 - val_loss: 0.3979 - val_accuracy: 0.8307\n",
            "Epoch 12/1000\n",
            "168/168 [==============================] - 1s 3ms/step - loss: 0.3710 - accuracy: 0.8427 - val_loss: 0.3912 - val_accuracy: 0.8315\n",
            "Epoch 13/1000\n",
            "168/168 [==============================] - 1s 3ms/step - loss: 0.3640 - accuracy: 0.8466 - val_loss: 0.3881 - val_accuracy: 0.8360\n",
            "Epoch 14/1000\n",
            "168/168 [==============================] - 1s 3ms/step - loss: 0.3578 - accuracy: 0.8515 - val_loss: 0.3878 - val_accuracy: 0.8353\n",
            "Epoch 15/1000\n",
            "168/168 [==============================] - 2s 11ms/step - loss: 0.3536 - accuracy: 0.8507 - val_loss: 0.3829 - val_accuracy: 0.8417\n",
            "Epoch 16/1000\n",
            "168/168 [==============================] - 2s 10ms/step - loss: 0.3495 - accuracy: 0.8530 - val_loss: 0.3802 - val_accuracy: 0.8425\n",
            "Epoch 17/1000\n",
            "168/168 [==============================] - 2s 12ms/step - loss: 0.3474 - accuracy: 0.8535 - val_loss: 0.3810 - val_accuracy: 0.8398\n",
            "Epoch 18/1000\n",
            "168/168 [==============================] - 1s 8ms/step - loss: 0.3443 - accuracy: 0.8556 - val_loss: 0.3799 - val_accuracy: 0.8413\n",
            "Epoch 19/1000\n",
            "168/168 [==============================] - 1s 7ms/step - loss: 0.3425 - accuracy: 0.8582 - val_loss: 0.3773 - val_accuracy: 0.8485\n",
            "Epoch 20/1000\n",
            "168/168 [==============================] - 1s 6ms/step - loss: 0.3415 - accuracy: 0.8582 - val_loss: 0.3769 - val_accuracy: 0.8470\n",
            "Epoch 21/1000\n",
            "168/168 [==============================] - 1s 8ms/step - loss: 0.3396 - accuracy: 0.8572 - val_loss: 0.3756 - val_accuracy: 0.8489\n",
            "Epoch 22/1000\n",
            "168/168 [==============================] - 2s 11ms/step - loss: 0.3379 - accuracy: 0.8565 - val_loss: 0.3771 - val_accuracy: 0.8474\n",
            "Epoch 23/1000\n",
            "168/168 [==============================] - 1s 8ms/step - loss: 0.3368 - accuracy: 0.8610 - val_loss: 0.3751 - val_accuracy: 0.8493\n",
            "Epoch 24/1000\n",
            "168/168 [==============================] - 2s 11ms/step - loss: 0.3362 - accuracy: 0.8606 - val_loss: 0.3770 - val_accuracy: 0.8485\n",
            "Epoch 25/1000\n",
            "168/168 [==============================] - 2s 15ms/step - loss: 0.3357 - accuracy: 0.8614 - val_loss: 0.3744 - val_accuracy: 0.8504\n",
            "Epoch 26/1000\n",
            "168/168 [==============================] - 2s 13ms/step - loss: 0.3348 - accuracy: 0.8621 - val_loss: 0.3755 - val_accuracy: 0.8451\n",
            "Epoch 27/1000\n",
            "168/168 [==============================] - 1s 8ms/step - loss: 0.3336 - accuracy: 0.8615 - val_loss: 0.3748 - val_accuracy: 0.8516\n",
            "Epoch 28/1000\n",
            "168/168 [==============================] - 1s 9ms/step - loss: 0.3330 - accuracy: 0.8591 - val_loss: 0.3746 - val_accuracy: 0.8470\n",
            "Epoch 29/1000\n",
            "168/168 [==============================] - 1s 8ms/step - loss: 0.3321 - accuracy: 0.8595 - val_loss: 0.3747 - val_accuracy: 0.8504\n",
            "Epoch 30/1000\n",
            "168/168 [==============================] - 1s 7ms/step - loss: 0.3313 - accuracy: 0.8612 - val_loss: 0.3741 - val_accuracy: 0.8527\n",
            "Epoch 31/1000\n",
            "168/168 [==============================] - 1s 8ms/step - loss: 0.3317 - accuracy: 0.8625 - val_loss: 0.3736 - val_accuracy: 0.8516\n",
            "Epoch 32/1000\n",
            "168/168 [==============================] - 1s 5ms/step - loss: 0.3304 - accuracy: 0.8619 - val_loss: 0.3727 - val_accuracy: 0.8512\n",
            "Epoch 33/1000\n",
            "168/168 [==============================] - 0s 3ms/step - loss: 0.3296 - accuracy: 0.8625 - val_loss: 0.3723 - val_accuracy: 0.8504\n",
            "Epoch 34/1000\n",
            "168/168 [==============================] - 0s 3ms/step - loss: 0.3288 - accuracy: 0.8630 - val_loss: 0.3747 - val_accuracy: 0.8482\n",
            "Epoch 35/1000\n",
            "168/168 [==============================] - 1s 3ms/step - loss: 0.3292 - accuracy: 0.8612 - val_loss: 0.3701 - val_accuracy: 0.8519\n",
            "Epoch 36/1000\n",
            "168/168 [==============================] - 1s 3ms/step - loss: 0.3289 - accuracy: 0.8619 - val_loss: 0.3784 - val_accuracy: 0.8470\n",
            "Epoch 37/1000\n",
            "168/168 [==============================] - 1s 3ms/step - loss: 0.3284 - accuracy: 0.8623 - val_loss: 0.3721 - val_accuracy: 0.8504\n",
            "Epoch 38/1000\n",
            "168/168 [==============================] - 1s 5ms/step - loss: 0.3273 - accuracy: 0.8627 - val_loss: 0.3720 - val_accuracy: 0.8519\n",
            "Epoch 39/1000\n",
            "168/168 [==============================] - 1s 4ms/step - loss: 0.3274 - accuracy: 0.8660 - val_loss: 0.3713 - val_accuracy: 0.8489\n",
            "Epoch 40/1000\n",
            "168/168 [==============================] - 1s 5ms/step - loss: 0.3267 - accuracy: 0.8638 - val_loss: 0.3723 - val_accuracy: 0.8512\n",
            "Epoch 41/1000\n",
            "168/168 [==============================] - 1s 6ms/step - loss: 0.3261 - accuracy: 0.8636 - val_loss: 0.3695 - val_accuracy: 0.8542\n",
            "Epoch 42/1000\n",
            "168/168 [==============================] - 1s 3ms/step - loss: 0.3259 - accuracy: 0.8655 - val_loss: 0.3708 - val_accuracy: 0.8531\n",
            "Epoch 43/1000\n",
            "168/168 [==============================] - 1s 3ms/step - loss: 0.3257 - accuracy: 0.8628 - val_loss: 0.3704 - val_accuracy: 0.8538\n",
            "Epoch 44/1000\n",
            "168/168 [==============================] - 1s 3ms/step - loss: 0.3245 - accuracy: 0.8662 - val_loss: 0.3721 - val_accuracy: 0.8497\n",
            "Epoch 45/1000\n",
            "168/168 [==============================] - 1s 3ms/step - loss: 0.3239 - accuracy: 0.8643 - val_loss: 0.3712 - val_accuracy: 0.8519\n",
            "Epoch 46/1000\n",
            "168/168 [==============================] - 1s 3ms/step - loss: 0.3245 - accuracy: 0.8625 - val_loss: 0.3720 - val_accuracy: 0.8535\n",
            "Epoch 47/1000\n",
            "168/168 [==============================] - 1s 3ms/step - loss: 0.3245 - accuracy: 0.8628 - val_loss: 0.3710 - val_accuracy: 0.8535\n",
            "Epoch 48/1000\n",
            "168/168 [==============================] - 1s 3ms/step - loss: 0.3240 - accuracy: 0.8632 - val_loss: 0.3722 - val_accuracy: 0.8512\n",
            "Epoch 49/1000\n",
            "168/168 [==============================] - 1s 3ms/step - loss: 0.3239 - accuracy: 0.8632 - val_loss: 0.3702 - val_accuracy: 0.8531\n",
            "Epoch 50/1000\n",
            "168/168 [==============================] - 1s 3ms/step - loss: 0.3227 - accuracy: 0.8651 - val_loss: 0.3706 - val_accuracy: 0.8523\n",
            "Epoch 51/1000\n",
            "168/168 [==============================] - 1s 3ms/step - loss: 0.3218 - accuracy: 0.8668 - val_loss: 0.3692 - val_accuracy: 0.8535\n",
            "Epoch 52/1000\n",
            "168/168 [==============================] - 0s 3ms/step - loss: 0.3225 - accuracy: 0.8655 - val_loss: 0.3707 - val_accuracy: 0.8527\n",
            "Epoch 53/1000\n",
            "168/168 [==============================] - 0s 3ms/step - loss: 0.3225 - accuracy: 0.8647 - val_loss: 0.3684 - val_accuracy: 0.8546\n",
            "Epoch 54/1000\n",
            "168/168 [==============================] - 1s 3ms/step - loss: 0.3213 - accuracy: 0.8653 - val_loss: 0.3698 - val_accuracy: 0.8538\n",
            "Epoch 55/1000\n",
            "168/168 [==============================] - 0s 3ms/step - loss: 0.3213 - accuracy: 0.8658 - val_loss: 0.3699 - val_accuracy: 0.8523\n",
            "Epoch 56/1000\n",
            "168/168 [==============================] - 0s 3ms/step - loss: 0.3207 - accuracy: 0.8658 - val_loss: 0.3711 - val_accuracy: 0.8535\n",
            "Epoch 57/1000\n",
            "168/168 [==============================] - 0s 3ms/step - loss: 0.3202 - accuracy: 0.8651 - val_loss: 0.3692 - val_accuracy: 0.8538\n",
            "Epoch 58/1000\n",
            "168/168 [==============================] - 1s 3ms/step - loss: 0.3203 - accuracy: 0.8647 - val_loss: 0.3704 - val_accuracy: 0.8531\n",
            "Epoch 59/1000\n",
            "168/168 [==============================] - 0s 3ms/step - loss: 0.3201 - accuracy: 0.8645 - val_loss: 0.3696 - val_accuracy: 0.8550\n",
            "Epoch 60/1000\n",
            "168/168 [==============================] - 1s 3ms/step - loss: 0.3188 - accuracy: 0.8656 - val_loss: 0.3697 - val_accuracy: 0.8550\n",
            "Epoch 61/1000\n",
            "168/168 [==============================] - 1s 5ms/step - loss: 0.3189 - accuracy: 0.8653 - val_loss: 0.3697 - val_accuracy: 0.8516\n",
            "Epoch 62/1000\n",
            "168/168 [==============================] - 1s 6ms/step - loss: 0.3201 - accuracy: 0.8668 - val_loss: 0.3701 - val_accuracy: 0.8550\n",
            "Epoch 63/1000\n",
            "168/168 [==============================] - 1s 6ms/step - loss: 0.3187 - accuracy: 0.8638 - val_loss: 0.3694 - val_accuracy: 0.8535\n",
            "Epoch 64/1000\n",
            "168/168 [==============================] - 1s 5ms/step - loss: 0.3179 - accuracy: 0.8649 - val_loss: 0.3707 - val_accuracy: 0.8519\n",
            "Epoch 65/1000\n",
            "168/168 [==============================] - 1s 3ms/step - loss: 0.3176 - accuracy: 0.8664 - val_loss: 0.3703 - val_accuracy: 0.8542\n",
            "Epoch 66/1000\n",
            "168/168 [==============================] - 1s 3ms/step - loss: 0.3180 - accuracy: 0.8670 - val_loss: 0.3715 - val_accuracy: 0.8550\n",
            "Epoch 67/1000\n",
            "168/168 [==============================] - 1s 3ms/step - loss: 0.3179 - accuracy: 0.8670 - val_loss: 0.3716 - val_accuracy: 0.8523\n",
            "Epoch 68/1000\n",
            "168/168 [==============================] - 1s 3ms/step - loss: 0.3173 - accuracy: 0.8662 - val_loss: 0.3700 - val_accuracy: 0.8542\n",
            "Epoch 69/1000\n",
            "168/168 [==============================] - 1s 3ms/step - loss: 0.3173 - accuracy: 0.8656 - val_loss: 0.3716 - val_accuracy: 0.8550\n",
            "Epoch 70/1000\n",
            "168/168 [==============================] - 1s 3ms/step - loss: 0.3173 - accuracy: 0.8662 - val_loss: 0.3709 - val_accuracy: 0.8542\n",
            "Epoch 71/1000\n",
            "168/168 [==============================] - 0s 3ms/step - loss: 0.3168 - accuracy: 0.8686 - val_loss: 0.3708 - val_accuracy: 0.8569\n",
            "Epoch 72/1000\n",
            "168/168 [==============================] - 0s 3ms/step - loss: 0.3172 - accuracy: 0.8660 - val_loss: 0.3728 - val_accuracy: 0.8523\n",
            "Epoch 73/1000\n",
            "168/168 [==============================] - 1s 3ms/step - loss: 0.3160 - accuracy: 0.8649 - val_loss: 0.3720 - val_accuracy: 0.8523\n",
            "Epoch 73: early stopping\n"
          ]
        }
      ],
      "source": [
        "model_history = classifier.fit(X_train , Y_train , validation_split=0.33 ,epochs = 1000,callbacks=early_stopping)"
      ]
    },
    {
      "cell_type": "code",
      "execution_count": 37,
      "metadata": {
        "colab": {
          "base_uri": "https://localhost:8080/"
        },
        "id": "Vcfo3_ghwAta",
        "outputId": "fa6f5236-9a73-4164-bd19-b72006a29a72"
      },
      "outputs": [
        {
          "data": {
            "text/plain": [
              "dict_keys(['loss', 'accuracy', 'val_loss', 'val_accuracy'])"
            ]
          },
          "execution_count": 37,
          "metadata": {},
          "output_type": "execute_result"
        }
      ],
      "source": [
        "model_history.history.keys()"
      ]
    },
    {
      "cell_type": "markdown",
      "metadata": {
        "id": "Msqz0mvsza43"
      },
      "source": [
        "Summarize history for accuracy"
      ]
    },
    {
      "cell_type": "code",
      "execution_count": 38,
      "metadata": {
        "colab": {
          "base_uri": "https://localhost:8080/",
          "height": 489
        },
        "id": "WRNH9wjVzatR",
        "outputId": "e88ecd30-0563-4ed8-97d2-b9c7dd408980"
      },
      "outputs": [
        {
          "data": {
            "text/plain": [
              "<function matplotlib.pyplot.show(close=None, block=None)>"
            ]
          },
          "execution_count": 38,
          "metadata": {},
          "output_type": "execute_result"
        },
        {
          "data": {
            "image/png": "[encoded data removed]",
            "text/plain": [
              "<Figure size 640x480 with 1 Axes>"
            ]
          },
          "metadata": {},
          "output_type": "display_data"
        }
      ],
      "source": [
        "plt.plot(model_history.history['accuracy'])\n",
        "plt.plot(model_history.history['val_accuracy'])\n",
        "\n",
        "plt.title('model accuracy')\n",
        "plt.ylabel('accuracy')\n",
        "plt.xlabel('epoch')\n",
        "\n",
        "plt.legend(['train','test'],loc = 'upper left')\n",
        "plt.show"
      ]
    },
    {
      "cell_type": "markdown",
      "metadata": {
        "id": "xM1XmS3m0tUS"
      },
      "source": [
        "loss summary"
      ]
    },
    {
      "cell_type": "code",
      "execution_count": 39,
      "metadata": {
        "colab": {
          "base_uri": "https://localhost:8080/",
          "height": 489
        },
        "id": "35HAN6qcyrV9",
        "outputId": "f1ea266e-ac3f-4305-c957-697919e16a1a"
      },
      "outputs": [
        {
          "data": {
            "text/plain": [
              "<function matplotlib.pyplot.show(close=None, block=None)>"
            ]
          },
          "execution_count": 39,
          "metadata": {},
          "output_type": "execute_result"
        },
        {
          "data": {
            "image/png": "[encoded data removed]",
            "text/plain": [
              "<Figure size 640x480 with 1 Axes>"
            ]
          },
          "metadata": {},
          "output_type": "display_data"
        }
      ],
      "source": [
        "plt.plot(model_history.history['loss'])\n",
        "plt.plot(model_history.history['val_loss'])\n",
        "\n",
        "plt.title('model loss')\n",
        "plt.ylabel('loss')\n",
        "plt.xlabel('epoch')\n",
        "\n",
        "plt.legend(['train','test'],loc = 'upper left')\n",
        "plt.show"
      ]
    },
    {
      "cell_type": "markdown",
      "metadata": {
        "id": "z7126iQp18i3"
      },
      "source": [
        "## Making the prediction and evaluating the model"
      ]
    },
    {
      "cell_type": "code",
      "execution_count": 40,
      "metadata": {
        "colab": {
          "base_uri": "https://localhost:8080/"
        },
        "id": "tfyQG5k902x2",
        "outputId": "b2155cbf-46b8-430f-cd6f-a88060802eae"
      },
      "outputs": [
        {
          "name": "stdout",
          "output_type": "stream",
          "text": [
            "63/63 [==============================] - 0s 1ms/step\n"
          ]
        }
      ],
      "source": [
        "# predicting test set result\n",
        "Y_pred  = classifier.predict(X_test)\n"
      ]
    },
    {
      "cell_type": "code",
      "execution_count": 41,
      "metadata": {
        "id": "1YyzGUxV2O0e"
      },
      "outputs": [],
      "source": [
        "Y_pred = (Y_pred >= 0.5 )"
      ]
    },
    {
      "cell_type": "code",
      "execution_count": 42,
      "metadata": {
        "colab": {
          "base_uri": "https://localhost:8080/"
        },
        "id": "y2LCmcR_9Vmo",
        "outputId": "2ed868e3-1817-416d-d8c1-613e05810944"
      },
      "outputs": [
        {
          "data": {
            "text/plain": [
              "array([[False],\n",
              "       [False],\n",
              "       [False],\n",
              "       [False],\n",
              "       [False]])"
            ]
          },
          "execution_count": 42,
          "metadata": {},
          "output_type": "execute_result"
        }
      ],
      "source": [
        "Y_pred[:5]"
      ]
    },
    {
      "cell_type": "code",
      "execution_count": 43,
      "metadata": {
        "colab": {
          "base_uri": "https://localhost:8080/"
        },
        "id": "08dhZBXQ-cga",
        "outputId": "42ceed82-ed70-4445-e4aa-e00fa81c47f3"
      },
      "outputs": [
        {
          "data": {
            "text/plain": [
              "7389    0\n",
              "9275    0\n",
              "2995    0\n",
              "5316    0\n",
              "356     0\n",
              "Name: Exited, dtype: int64"
            ]
          },
          "execution_count": 43,
          "metadata": {},
          "output_type": "execute_result"
        }
      ],
      "source": [
        "Y_train[:5]"
      ]
    },
    {
      "cell_type": "markdown",
      "metadata": {
        "id": "zBQSs2L82frx"
      },
      "source": [
        "Making confusing metrics"
      ]
    },
    {
      "cell_type": "code",
      "execution_count": 44,
      "metadata": {
        "id": "7NSELCX42TO8"
      },
      "outputs": [],
      "source": [
        "from sklearn.metrics import confusion_matrix"
      ]
    },
    {
      "cell_type": "code",
      "execution_count": 45,
      "metadata": {
        "colab": {
          "base_uri": "https://localhost:8080/"
        },
        "id": "XJgcZGe52nbh",
        "outputId": "edec144e-b7f1-4798-8629-0204bf32dedf"
      },
      "outputs": [
        {
          "data": {
            "text/plain": [
              "array([[1517,   78],\n",
              "       [ 215,  190]])"
            ]
          },
          "execution_count": 45,
          "metadata": {},
          "output_type": "execute_result"
        }
      ],
      "source": [
        "cm = confusion_matrix(Y_test , Y_pred)\n",
        "cm"
      ]
    },
    {
      "cell_type": "code",
      "execution_count": 46,
      "metadata": {
        "id": "rV6g5gUQ2xGB"
      },
      "outputs": [],
      "source": [
        "#calculate the accuracy\n",
        "\n",
        "from sklearn.metrics import accuracy_score\n"
      ]
    },
    {
      "cell_type": "code",
      "execution_count": 47,
      "metadata": {
        "id": "BAHLZ0eV3kj3"
      },
      "outputs": [],
      "source": [
        "score = accuracy_score(Y_test,Y_pred)"
      ]
    },
    {
      "cell_type": "code",
      "execution_count": 48,
      "metadata": {
        "colab": {
          "base_uri": "https://localhost:8080/"
        },
        "id": "VxgHwzBs3yLj",
        "outputId": "386d2d89-83c7-4785-ffab-dfe60eff8a71"
      },
      "outputs": [
        {
          "data": {
            "text/plain": [
              "0.8535"
            ]
          },
          "execution_count": 48,
          "metadata": {},
          "output_type": "execute_result"
        }
      ],
      "source": [
        "score"
      ]
    },
    {
      "cell_type": "markdown",
      "metadata": {
        "id": "CC6AFWTz376E"
      },
      "source": [
        "Get the weughts"
      ]
    },
    {
      "cell_type": "code",
      "execution_count": 49,
      "metadata": {
        "colab": {
          "base_uri": "https://localhost:8080/"
        },
        "id": "XoQi7oL53zaL",
        "outputId": "98c00c8a-ac2e-4357-cfbf-5d8293c56f8a"
      },
      "outputs": [
        {
          "data": {
            "text/plain": [
              "[array([[ 0.28874275, -0.14566036,  0.05401672, -0.08981584, -0.09530705,\n",
              "         -0.52817464,  0.08726329,  0.35293403,  0.28799593, -0.12671041,\n",
              "         -0.18758607],\n",
              "        [-0.14352302,  0.04495167,  0.95866984, -0.74263644,  0.20557113,\n",
              "         -0.12405368,  0.06123307, -0.3602731 , -0.75496525,  0.0663641 ,\n",
              "          0.29327276],\n",
              "        [ 0.25762728, -0.03951951,  0.20003392,  0.11215065,  0.10906245,\n",
              "          0.57688034, -0.11932865,  0.13290885, -0.37616467,  0.19754274,\n",
              "          0.12074159],\n",
              "        [-0.5651151 ,  0.7101097 , -0.1935816 , -0.22902305, -0.2769477 ,\n",
              "         -0.04326868, -0.39096817, -0.06444798, -0.16534935,  0.23328489,\n",
              "          0.05183326],\n",
              "        [-0.20313826, -0.1975719 ,  0.38953894,  0.00492024, -1.0041218 ,\n",
              "          0.2592641 , -0.9602421 , -0.14047956,  0.09056142,  0.91622806,\n",
              "         -0.5769014 ],\n",
              "        [-0.08224304, -0.35757828, -0.10520027,  0.13366419,  0.05914014,\n",
              "         -0.06322676,  0.06882134, -0.03686872,  0.01975525,  0.06112008,\n",
              "          0.184951  ],\n",
              "        [ 0.5625091 ,  0.12176117,  0.5845532 , -0.41420105, -0.19852772,\n",
              "         -0.37124163, -0.26397294, -0.5914403 , -0.16208546, -0.49821714,\n",
              "          0.597246  ],\n",
              "        [ 0.02591633,  0.50338775,  0.29508454, -0.05195056, -0.00708309,\n",
              "         -0.2365179 ,  0.22974639,  0.5331061 ,  0.07019996,  0.00972324,\n",
              "          0.40510046],\n",
              "        [-0.63741595,  0.22488001, -0.06419814,  0.17015442,  0.20201598,\n",
              "          0.05727341,  0.4451494 , -0.41481358,  0.07165924,  0.12719715,\n",
              "          0.8129586 ],\n",
              "        [-0.07510317,  0.42191944,  0.12804632, -0.38884664, -0.02098993,\n",
              "          0.18469797, -0.0738779 , -0.18825687,  0.11162751,  0.04497964,\n",
              "          0.3490216 ],\n",
              "        [ 0.3645109 ,  0.00895296,  0.7079291 ,  0.07179603, -0.04167898,\n",
              "         -0.035598  ,  0.19451743,  0.22039466,  0.3348419 , -0.2606602 ,\n",
              "         -0.17015475]], dtype=float32),\n",
              " array([ 0.12725802,  0.08414122,  0.4404567 ,  0.51462334,  0.06208505,\n",
              "         0.5294472 , -0.03861514,  0.03936979,  0.4539186 , -0.14494273,\n",
              "         0.24825057], dtype=float32),\n",
              " array([[ 0.0958688 ,  0.05315224, -0.0337758 ,  0.5604932 ,  0.19846052,\n",
              "          0.46722636,  0.235093  ],\n",
              "        [-0.41756475, -0.8140752 ,  0.6699521 ,  0.0760162 ,  0.10904359,\n",
              "          0.26680133, -0.07917514],\n",
              "        [ 0.4393324 , -0.35862672,  0.27359593, -0.25380647,  0.40403095,\n",
              "         -0.46410516,  0.8576702 ],\n",
              "        [-0.44082427, -0.23393086, -0.5487039 , -0.12140974,  0.55570924,\n",
              "         -0.14103384, -0.02034274],\n",
              "        [ 0.51949036, -0.40040687,  0.05938321,  0.02734794,  0.2608872 ,\n",
              "         -0.8104087 ,  0.00910993],\n",
              "        [ 0.5136653 ,  0.5440404 , -0.24805625,  0.15215261, -0.26746356,\n",
              "          0.5048385 ,  0.07544395],\n",
              "        [ 0.1652866 , -0.25617486,  0.52135944,  0.23851465, -0.41260612,\n",
              "         -0.07991635,  0.22975765],\n",
              "        [-0.28364825, -0.26098084, -0.10956492,  0.3586026 ,  0.20068982,\n",
              "          0.18938714,  0.08713643],\n",
              "        [ 0.28305423,  0.1454525 , -0.5225987 , -0.52227664, -0.09122583,\n",
              "          0.22861603, -0.2804759 ],\n",
              "        [ 0.7956278 , -0.2171751 ,  0.03867565, -0.3081914 , -0.16913247,\n",
              "         -0.20690759, -0.7248317 ],\n",
              "        [-0.26214573,  0.06202937, -0.49056596,  0.31203172,  0.5592513 ,\n",
              "          0.08933818, -0.40743956]], dtype=float32),\n",
              " array([-0.16492462,  0.36200303,  0.09244894, -0.05494558,  0.28732705,\n",
              "         0.63286316,  0.2865588 ], dtype=float32),\n",
              " array([[-0.246992  ,  0.8649997 , -0.25066105, -0.08320683,  0.30039   ,\n",
              "          0.18162778],\n",
              "        [ 0.8789425 , -0.07592903,  0.3049628 ,  1.0367167 ,  0.02195759,\n",
              "         -0.00227109],\n",
              "        [ 0.0477345 ,  0.23187122, -0.5045347 , -0.5476881 , -1.1331435 ,\n",
              "          0.9812815 ],\n",
              "        [-0.62598795,  0.29823026, -0.74417585, -0.34615493, -0.13847616,\n",
              "          0.24300219],\n",
              "        [ 0.11407461,  0.33856404, -0.13382322,  0.8190379 ,  0.43124416,\n",
              "         -0.4115052 ],\n",
              "        [ 0.6234577 , -0.6782044 ,  0.5263476 ,  0.04462292, -0.13694684,\n",
              "         -0.9465253 ],\n",
              "        [-0.03274698, -0.7945328 ,  0.63533044,  0.20247066, -0.02603156,\n",
              "          0.02369038]], dtype=float32),\n",
              " array([0.27514386, 0.12852308, 0.38710085, 0.18213439, 0.03432497,\n",
              "        0.25285676], dtype=float32),\n",
              " array([[-0.4268324 ],\n",
              "        [ 1.4938216 ],\n",
              "        [-1.2633852 ],\n",
              "        [-1.1832485 ],\n",
              "        [-0.08310563],\n",
              "        [ 1.4905024 ]], dtype=float32),\n",
              " array([-0.0047172], dtype=float32)]"
            ]
          },
          "execution_count": 49,
          "metadata": {},
          "output_type": "execute_result"
        }
      ],
      "source": [
        "classifier.get_weights()"
      ]
    },
    {
      "cell_type": "code",
      "execution_count": 53,
      "metadata": {
        "colab": {
          "base_uri": "https://localhost:8080/"
        },
        "id": "JmlnPLDQ8le-",
        "outputId": "9a522a8f-f0a9-4534-e73f-7454d5b4f15d"
      },
      "outputs": [
        {
          "name": "stderr",
          "output_type": "stream",
          "text": [
            "/usr/local/lib/python3.10/dist-packages/keras/src/engine/training.py:3103: UserWarning: You are saving your model as an HDF5 file via `model.save()`. This file format is considered legacy. We recommend using instead the native Keras format, e.g. `model.save('my_model.keras')`.\n",
            "  saving_api.save_model(\n"
          ]
        }
      ],
      "source": [
        "classifier.save('churn_model.h5')"
      ]
    },
    {
      "cell_type": "code",
      "execution_count": 55,
      "metadata": {
        "id": "6DUCqrg2Trzx"
      },
      "outputs": [],
      "source": [
        "from tensorflow.keras.models import load_model\n",
        "model = load_model('churn_model.h5')"
      ]
    },
    {
      "cell_type": "code",
      "execution_count": 60,
      "metadata": {
        "colab": {
          "base_uri": "https://localhost:8080/"
        },
        "id": "Rz8PPFGBUUi1",
        "outputId": "a971d711-fb4f-40af-8a1d-9cdbb769717f"
      },
      "outputs": [
        {
          "name": "stdout",
          "output_type": "stream",
          "text": [
            "Model: \"sequential\"\n",
            "_________________________________________________________________\n",
            " Layer (type)                Output Shape              Param #   \n",
            "=================================================================\n",
            " dense (Dense)               (None, 11)                132       \n",
            "                                                                 \n",
            " dense_1 (Dense)             (None, 7)                 84        \n",
            "                                                                 \n",
            " dense_2 (Dense)             (None, 6)                 48        \n",
            "                                                                 \n",
            " dense_3 (Dense)             (None, 1)                 7         \n",
            "                                                                 \n",
            "=================================================================\n",
            "Total params: 271 (1.06 KB)\n",
            "Trainable params: 271 (1.06 KB)\n",
            "Non-trainable params: 0 (0.00 Byte)\n",
            "_________________________________________________________________\n"
          ]
        }
      ],
      "source": [
        "model.summary()"
      ]
    },
    {
      "cell_type": "code",
      "execution_count": null,
      "metadata": {
        "id": "rXYDqPFtUb4-"
      },
      "outputs": [],
      "source": []
    }
  ],
  "metadata": {
    "accelerator": "GPU",
    "colab": {
      "gpuType": "T4",
      "provenance": []
    },
    "kernelspec": {
      "display_name": "Python 3",
      "name": "python3"
    },
    "language_info": {
      "codemirror_mode": {
        "name": "ipython",
        "version": 3
      },
      "file_extension": ".py",
      "mimetype": "text/x-python",
      "name": "python",
      "nbconvert_exporter": "python",
      "pygments_lexer": "ipython3",
      "version": "3.8.7rc1"
    }
  },
  "nbformat": 4,
  "nbformat_minor": 0
}
